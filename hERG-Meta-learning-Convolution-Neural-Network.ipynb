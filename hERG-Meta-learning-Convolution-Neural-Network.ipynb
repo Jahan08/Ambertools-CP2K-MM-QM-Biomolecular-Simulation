{
  "cells": [
    {
      "cell_type": "markdown",
      "metadata": {
        "id": "view-in-github",
        "colab_type": "text"
      },
      "source": [
        "<a href=\"https://colab.research.google.com/github/Jahan08/Ambertools-CP2K-MM-QM-Biomolecular-Simulation/blob/main/hERG-Meta-learning-Convolution-Neural-Network.ipynb\" target=\"_parent\"><img src=\"https://colab.research.google.com/assets/colab-badge.svg\" alt=\"Open In Colab\"/></a>"
      ]
    },
    {
      "cell_type": "code",
      "source": [
        "!pip install kora\n",
        "import kora.install.rdkit"
      ],
      "metadata": {
        "colab": {
          "base_uri": "https://localhost:8080/"
        },
        "id": "hNdD0E9Qan0v",
        "outputId": "a025edae-2612-4eea-c67c-ec37e95d220a"
      },
      "execution_count": 54,
      "outputs": [
        {
          "output_type": "stream",
          "name": "stdout",
          "text": [
            "Looking in indexes: https://pypi.org/simple, https://us-python.pkg.dev/colab-wheels/public/simple/\n",
            "Collecting kora\n",
            "  Downloading kora-0.9.20-py3-none-any.whl (57 kB)\n",
            "\u001b[2K     \u001b[90m━━━━━━━━━━━━━━━━━━━━━━━━━━━━━━━━━━━━━━━━\u001b[0m \u001b[32m57.7/57.7 kB\u001b[0m \u001b[31m2.5 MB/s\u001b[0m eta \u001b[36m0:00:00\u001b[0m\n",
            "\u001b[?25hRequirement already satisfied: ipython in /usr/local/lib/python3.10/dist-packages (from kora) (7.34.0)\n",
            "Requirement already satisfied: fastcore in /usr/local/lib/python3.10/dist-packages (from kora) (1.5.29)\n",
            "Requirement already satisfied: pip in /usr/local/lib/python3.10/dist-packages (from fastcore->kora) (23.1.2)\n",
            "Requirement already satisfied: packaging in /usr/local/lib/python3.10/dist-packages (from fastcore->kora) (23.1)\n",
            "Requirement already satisfied: setuptools>=18.5 in /usr/local/lib/python3.10/dist-packages (from ipython->kora) (67.7.2)\n",
            "Collecting jedi>=0.16 (from ipython->kora)\n",
            "  Downloading jedi-0.18.2-py2.py3-none-any.whl (1.6 MB)\n",
            "\u001b[2K     \u001b[90m━━━━━━━━━━━━━━━━━━━━━━━━━━━━━━━━━━━━━━━━\u001b[0m \u001b[32m1.6/1.6 MB\u001b[0m \u001b[31m23.7 MB/s\u001b[0m eta \u001b[36m0:00:00\u001b[0m\n",
            "\u001b[?25hRequirement already satisfied: decorator in /usr/local/lib/python3.10/dist-packages (from ipython->kora) (4.4.2)\n",
            "Requirement already satisfied: pickleshare in /usr/local/lib/python3.10/dist-packages (from ipython->kora) (0.7.5)\n",
            "Requirement already satisfied: traitlets>=4.2 in /usr/local/lib/python3.10/dist-packages (from ipython->kora) (5.7.1)\n",
            "Requirement already satisfied: prompt-toolkit!=3.0.0,!=3.0.1,<3.1.0,>=2.0.0 in /usr/local/lib/python3.10/dist-packages (from ipython->kora) (3.0.38)\n",
            "Requirement already satisfied: pygments in /usr/local/lib/python3.10/dist-packages (from ipython->kora) (2.14.0)\n",
            "Requirement already satisfied: backcall in /usr/local/lib/python3.10/dist-packages (from ipython->kora) (0.2.0)\n",
            "Requirement already satisfied: matplotlib-inline in /usr/local/lib/python3.10/dist-packages (from ipython->kora) (0.1.6)\n",
            "Requirement already satisfied: pexpect>4.3 in /usr/local/lib/python3.10/dist-packages (from ipython->kora) (4.8.0)\n",
            "Requirement already satisfied: parso<0.9.0,>=0.8.0 in /usr/local/lib/python3.10/dist-packages (from jedi>=0.16->ipython->kora) (0.8.3)\n",
            "Requirement already satisfied: ptyprocess>=0.5 in /usr/local/lib/python3.10/dist-packages (from pexpect>4.3->ipython->kora) (0.7.0)\n",
            "Requirement already satisfied: wcwidth in /usr/local/lib/python3.10/dist-packages (from prompt-toolkit!=3.0.0,!=3.0.1,<3.1.0,>=2.0.0->ipython->kora) (0.2.6)\n",
            "Installing collected packages: jedi, kora\n",
            "Successfully installed jedi-0.18.2 kora-0.9.20\n"
          ]
        }
      ]
    },
    {
      "cell_type": "code",
      "source": [
        "! pip install rdkit --upgrade\n"
      ],
      "metadata": {
        "id": "_5EYTHBWtmAK",
        "outputId": "2f605948-e4c2-4a18-d623-dad6dac2c4af",
        "colab": {
          "base_uri": "https://localhost:8080/"
        }
      },
      "execution_count": 51,
      "outputs": [
        {
          "output_type": "stream",
          "name": "stdout",
          "text": [
            "Looking in indexes: https://pypi.org/simple, https://us-python.pkg.dev/colab-wheels/public/simple/\n",
            "Requirement already satisfied: rdkit in /usr/local/lib/python3.10/dist-packages (2023.3.1)\n",
            "Requirement already satisfied: numpy in /usr/local/lib/python3.10/dist-packages (from rdkit) (1.22.4)\n",
            "Requirement already satisfied: Pillow in /usr/local/lib/python3.10/dist-packages (from rdkit) (8.4.0)\n"
          ]
        }
      ]
    },
    {
      "cell_type": "code",
      "source": [
        "from rdkit import Chem\n",
        "from rdkit.Chem import AllChem, Descriptors\n",
        "import pandas as pd\n",
        "import numpy as np\n",
        "from sklearn.model_selection import train_test_split, cross_val_score\n",
        "from sklearn.ensemble import RandomForestClassifier, AdaBoostClassifier, ExtraTreesClassifier\n",
        "from sklearn.neural_network import MLPClassifier\n",
        "from sklearn.naive_bayes import GaussianNB\n",
        "from sklearn.tree import DecisionTreeClassifier\n",
        "from sklearn.neighbors import KNeighborsClassifier\n",
        "from sklearn.linear_model import LogisticRegression\n",
        "from sklearn.svm import SVC\n",
        "from sklearn.metrics import accuracy_score\n",
        "from sklearn.pipeline import Pipeline\n",
        "from sklearn.preprocessing import StandardScaler\n",
        "from sklearn.cross_decomposition import PLSRegression\n",
        "from lightgbm import LGBMClassifier\n",
        "from xgboost import XGBClassifier"
      ],
      "metadata": {
        "id": "YYAm2ESQoZz8"
      },
      "execution_count": 23,
      "outputs": []
    },
    {
      "cell_type": "code",
      "source": [
        "df = pd.read_csv(\"/content/hERG_IC50_nM_new.csv\")\n",
        "df"
      ],
      "metadata": {
        "id": "qD5wzvoa683C",
        "colab": {
          "base_uri": "https://localhost:8080/",
          "height": 468
        },
        "outputId": "af72bc17-65eb-46a6-9f14-ae35cdbdc21d"
      },
      "execution_count": 24,
      "outputs": [
        {
          "output_type": "execute_result",
          "data": {
            "text/plain": [
              "     assay_chembl_id                                  assay_description  \\\n",
              "0       CHEMBL841079                 Inhibition of hERG currents Kv11.1   \n",
              "1       CHEMBL691014  K+ channel blocking activity in human embryoni...   \n",
              "2       CHEMBL691014  K+ channel blocking activity in human embryoni...   \n",
              "3       CHEMBL877203  K+ channel blocking activity in Chinese hamste...   \n",
              "4       CHEMBL691014  K+ channel blocking activity in human embryoni...   \n",
              "...              ...                                                ...   \n",
              "2963   CHEMBL5048865           Inhibition of hERG by patch clamp method   \n",
              "2964   CHEMBL5048865           Inhibition of hERG by patch clamp method   \n",
              "2965   CHEMBL5049389                                 Inhibition of hERG   \n",
              "2966   CHEMBL5050750                            Inhibition of human ERG   \n",
              "2967   CHEMBL5054318              Inhibition of human ERG by flux assay   \n",
              "\n",
              "     assay_type                                   canonical_smiles  \\\n",
              "0             T  O=C1NCCN1CCN1CCC(c2cn(-c3ccc(F)cc3)c3ccc(Cl)cc...   \n",
              "1             F  O=C(CCCN1CC=C(n2c(=O)[nH]c3ccccc32)CC1)c1ccc(F...   \n",
              "2             F  COc1ccc(CCN(C)CCCC(C#N)(c2ccc(OC)c(OC)c2)C(C)C...   \n",
              "3             F  CCCCN(CCCC)CCC(O)c1cc2c(Cl)cc(Cl)cc2c2cc(C(F)(...   \n",
              "4             F       CCOC(=O)N1CCC(=C2c3ccc(Cl)cc3CCc3cccnc32)CC1   \n",
              "...         ...                                                ...   \n",
              "2963          T  CCOP(=O)(Cn1ccc(NC(=O)c2cc(Oc3ccc(S(C)(=O)=O)c...   \n",
              "2964          T  CCOP(=O)(Cn1ccc(NC(=O)c2cc(Oc3ccc(S(=O)(=O)N4C...   \n",
              "2965          T  Cc1nc(C)c([C@H](OC(C)(C)C)C(=O)O)c(N2CCC(C)(C)...   \n",
              "2966          T  Cc1cnc(Nc2ccnn2C)nc1-c1cc2n(c1)C(=O)N([C@H](CO...   \n",
              "2967          B  Cc1noc(C)c1-c1cnc2c3ccc(C(C)(C)O)cc3n([C@H](c3...   \n",
              "\n",
              "       document_journal molecule_chembl_id    Value  IC50_uM Activity  \n",
              "0            J Med Chem        CHEMBL12713     14.0    0.140       No  \n",
              "1            J Med Chem         CHEMBL1108     32.2    0.322       No  \n",
              "2            J Med Chem         CHEMBL6966    143.0    1.430       No  \n",
              "3            J Med Chem         CHEMBL1107    196.0    1.960       No  \n",
              "4            J Med Chem          CHEMBL998    173.0    1.730       No  \n",
              "...                 ...                ...      ...      ...      ...  \n",
              "2963         J Med Chem      CHEMBL5081517  44000.0  440.000      Yes  \n",
              "2964         J Med Chem      CHEMBL5072442  33000.0  330.000      Yes  \n",
              "2965         J Med Chem      CHEMBL5093378    670.0    6.700       No  \n",
              "2966  ACS Med Chem Lett      CHEMBL5070887     14.0    0.140       No  \n",
              "2967         J Med Chem      CHEMBL5087175  51000.0  510.000      Yes  \n",
              "\n",
              "[2968 rows x 9 columns]"
            ],
            "text/html": [
              "\n",
              "  <div id=\"df-74cdacb3-8e6c-4d0c-8988-c8b09aedc8fe\">\n",
              "    <div class=\"colab-df-container\">\n",
              "      <div>\n",
              "<style scoped>\n",
              "    .dataframe tbody tr th:only-of-type {\n",
              "        vertical-align: middle;\n",
              "    }\n",
              "\n",
              "    .dataframe tbody tr th {\n",
              "        vertical-align: top;\n",
              "    }\n",
              "\n",
              "    .dataframe thead th {\n",
              "        text-align: right;\n",
              "    }\n",
              "</style>\n",
              "<table border=\"1\" class=\"dataframe\">\n",
              "  <thead>\n",
              "    <tr style=\"text-align: right;\">\n",
              "      <th></th>\n",
              "      <th>assay_chembl_id</th>\n",
              "      <th>assay_description</th>\n",
              "      <th>assay_type</th>\n",
              "      <th>canonical_smiles</th>\n",
              "      <th>document_journal</th>\n",
              "      <th>molecule_chembl_id</th>\n",
              "      <th>Value</th>\n",
              "      <th>IC50_uM</th>\n",
              "      <th>Activity</th>\n",
              "    </tr>\n",
              "  </thead>\n",
              "  <tbody>\n",
              "    <tr>\n",
              "      <th>0</th>\n",
              "      <td>CHEMBL841079</td>\n",
              "      <td>Inhibition of hERG currents Kv11.1</td>\n",
              "      <td>T</td>\n",
              "      <td>O=C1NCCN1CCN1CCC(c2cn(-c3ccc(F)cc3)c3ccc(Cl)cc...</td>\n",
              "      <td>J Med Chem</td>\n",
              "      <td>CHEMBL12713</td>\n",
              "      <td>14.0</td>\n",
              "      <td>0.140</td>\n",
              "      <td>No</td>\n",
              "    </tr>\n",
              "    <tr>\n",
              "      <th>1</th>\n",
              "      <td>CHEMBL691014</td>\n",
              "      <td>K+ channel blocking activity in human embryoni...</td>\n",
              "      <td>F</td>\n",
              "      <td>O=C(CCCN1CC=C(n2c(=O)[nH]c3ccccc32)CC1)c1ccc(F...</td>\n",
              "      <td>J Med Chem</td>\n",
              "      <td>CHEMBL1108</td>\n",
              "      <td>32.2</td>\n",
              "      <td>0.322</td>\n",
              "      <td>No</td>\n",
              "    </tr>\n",
              "    <tr>\n",
              "      <th>2</th>\n",
              "      <td>CHEMBL691014</td>\n",
              "      <td>K+ channel blocking activity in human embryoni...</td>\n",
              "      <td>F</td>\n",
              "      <td>COc1ccc(CCN(C)CCCC(C#N)(c2ccc(OC)c(OC)c2)C(C)C...</td>\n",
              "      <td>J Med Chem</td>\n",
              "      <td>CHEMBL6966</td>\n",
              "      <td>143.0</td>\n",
              "      <td>1.430</td>\n",
              "      <td>No</td>\n",
              "    </tr>\n",
              "    <tr>\n",
              "      <th>3</th>\n",
              "      <td>CHEMBL877203</td>\n",
              "      <td>K+ channel blocking activity in Chinese hamste...</td>\n",
              "      <td>F</td>\n",
              "      <td>CCCCN(CCCC)CCC(O)c1cc2c(Cl)cc(Cl)cc2c2cc(C(F)(...</td>\n",
              "      <td>J Med Chem</td>\n",
              "      <td>CHEMBL1107</td>\n",
              "      <td>196.0</td>\n",
              "      <td>1.960</td>\n",
              "      <td>No</td>\n",
              "    </tr>\n",
              "    <tr>\n",
              "      <th>4</th>\n",
              "      <td>CHEMBL691014</td>\n",
              "      <td>K+ channel blocking activity in human embryoni...</td>\n",
              "      <td>F</td>\n",
              "      <td>CCOC(=O)N1CCC(=C2c3ccc(Cl)cc3CCc3cccnc32)CC1</td>\n",
              "      <td>J Med Chem</td>\n",
              "      <td>CHEMBL998</td>\n",
              "      <td>173.0</td>\n",
              "      <td>1.730</td>\n",
              "      <td>No</td>\n",
              "    </tr>\n",
              "    <tr>\n",
              "      <th>...</th>\n",
              "      <td>...</td>\n",
              "      <td>...</td>\n",
              "      <td>...</td>\n",
              "      <td>...</td>\n",
              "      <td>...</td>\n",
              "      <td>...</td>\n",
              "      <td>...</td>\n",
              "      <td>...</td>\n",
              "      <td>...</td>\n",
              "    </tr>\n",
              "    <tr>\n",
              "      <th>2963</th>\n",
              "      <td>CHEMBL5048865</td>\n",
              "      <td>Inhibition of hERG by patch clamp method</td>\n",
              "      <td>T</td>\n",
              "      <td>CCOP(=O)(Cn1ccc(NC(=O)c2cc(Oc3ccc(S(C)(=O)=O)c...</td>\n",
              "      <td>J Med Chem</td>\n",
              "      <td>CHEMBL5081517</td>\n",
              "      <td>44000.0</td>\n",
              "      <td>440.000</td>\n",
              "      <td>Yes</td>\n",
              "    </tr>\n",
              "    <tr>\n",
              "      <th>2964</th>\n",
              "      <td>CHEMBL5048865</td>\n",
              "      <td>Inhibition of hERG by patch clamp method</td>\n",
              "      <td>T</td>\n",
              "      <td>CCOP(=O)(Cn1ccc(NC(=O)c2cc(Oc3ccc(S(=O)(=O)N4C...</td>\n",
              "      <td>J Med Chem</td>\n",
              "      <td>CHEMBL5072442</td>\n",
              "      <td>33000.0</td>\n",
              "      <td>330.000</td>\n",
              "      <td>Yes</td>\n",
              "    </tr>\n",
              "    <tr>\n",
              "      <th>2965</th>\n",
              "      <td>CHEMBL5049389</td>\n",
              "      <td>Inhibition of hERG</td>\n",
              "      <td>T</td>\n",
              "      <td>Cc1nc(C)c([C@H](OC(C)(C)C)C(=O)O)c(N2CCC(C)(C)...</td>\n",
              "      <td>J Med Chem</td>\n",
              "      <td>CHEMBL5093378</td>\n",
              "      <td>670.0</td>\n",
              "      <td>6.700</td>\n",
              "      <td>No</td>\n",
              "    </tr>\n",
              "    <tr>\n",
              "      <th>2966</th>\n",
              "      <td>CHEMBL5050750</td>\n",
              "      <td>Inhibition of human ERG</td>\n",
              "      <td>T</td>\n",
              "      <td>Cc1cnc(Nc2ccnn2C)nc1-c1cc2n(c1)C(=O)N([C@H](CO...</td>\n",
              "      <td>ACS Med Chem Lett</td>\n",
              "      <td>CHEMBL5070887</td>\n",
              "      <td>14.0</td>\n",
              "      <td>0.140</td>\n",
              "      <td>No</td>\n",
              "    </tr>\n",
              "    <tr>\n",
              "      <th>2967</th>\n",
              "      <td>CHEMBL5054318</td>\n",
              "      <td>Inhibition of human ERG by flux assay</td>\n",
              "      <td>B</td>\n",
              "      <td>Cc1noc(C)c1-c1cnc2c3ccc(C(C)(C)O)cc3n([C@H](c3...</td>\n",
              "      <td>J Med Chem</td>\n",
              "      <td>CHEMBL5087175</td>\n",
              "      <td>51000.0</td>\n",
              "      <td>510.000</td>\n",
              "      <td>Yes</td>\n",
              "    </tr>\n",
              "  </tbody>\n",
              "</table>\n",
              "<p>2968 rows × 9 columns</p>\n",
              "</div>\n",
              "      <button class=\"colab-df-convert\" onclick=\"convertToInteractive('df-74cdacb3-8e6c-4d0c-8988-c8b09aedc8fe')\"\n",
              "              title=\"Convert this dataframe to an interactive table.\"\n",
              "              style=\"display:none;\">\n",
              "        \n",
              "  <svg xmlns=\"http://www.w3.org/2000/svg\" height=\"24px\"viewBox=\"0 0 24 24\"\n",
              "       width=\"24px\">\n",
              "    <path d=\"M0 0h24v24H0V0z\" fill=\"none\"/>\n",
              "    <path d=\"M18.56 5.44l.94 2.06.94-2.06 2.06-.94-2.06-.94-.94-2.06-.94 2.06-2.06.94zm-11 1L8.5 8.5l.94-2.06 2.06-.94-2.06-.94L8.5 2.5l-.94 2.06-2.06.94zm10 10l.94 2.06.94-2.06 2.06-.94-2.06-.94-.94-2.06-.94 2.06-2.06.94z\"/><path d=\"M17.41 7.96l-1.37-1.37c-.4-.4-.92-.59-1.43-.59-.52 0-1.04.2-1.43.59L10.3 9.45l-7.72 7.72c-.78.78-.78 2.05 0 2.83L4 21.41c.39.39.9.59 1.41.59.51 0 1.02-.2 1.41-.59l7.78-7.78 2.81-2.81c.8-.78.8-2.07 0-2.86zM5.41 20L4 18.59l7.72-7.72 1.47 1.35L5.41 20z\"/>\n",
              "  </svg>\n",
              "      </button>\n",
              "      \n",
              "  <style>\n",
              "    .colab-df-container {\n",
              "      display:flex;\n",
              "      flex-wrap:wrap;\n",
              "      gap: 12px;\n",
              "    }\n",
              "\n",
              "    .colab-df-convert {\n",
              "      background-color: #E8F0FE;\n",
              "      border: none;\n",
              "      border-radius: 50%;\n",
              "      cursor: pointer;\n",
              "      display: none;\n",
              "      fill: #1967D2;\n",
              "      height: 32px;\n",
              "      padding: 0 0 0 0;\n",
              "      width: 32px;\n",
              "    }\n",
              "\n",
              "    .colab-df-convert:hover {\n",
              "      background-color: #E2EBFA;\n",
              "      box-shadow: 0px 1px 2px rgba(60, 64, 67, 0.3), 0px 1px 3px 1px rgba(60, 64, 67, 0.15);\n",
              "      fill: #174EA6;\n",
              "    }\n",
              "\n",
              "    [theme=dark] .colab-df-convert {\n",
              "      background-color: #3B4455;\n",
              "      fill: #D2E3FC;\n",
              "    }\n",
              "\n",
              "    [theme=dark] .colab-df-convert:hover {\n",
              "      background-color: #434B5C;\n",
              "      box-shadow: 0px 1px 3px 1px rgba(0, 0, 0, 0.15);\n",
              "      filter: drop-shadow(0px 1px 2px rgba(0, 0, 0, 0.3));\n",
              "      fill: #FFFFFF;\n",
              "    }\n",
              "  </style>\n",
              "\n",
              "      <script>\n",
              "        const buttonEl =\n",
              "          document.querySelector('#df-74cdacb3-8e6c-4d0c-8988-c8b09aedc8fe button.colab-df-convert');\n",
              "        buttonEl.style.display =\n",
              "          google.colab.kernel.accessAllowed ? 'block' : 'none';\n",
              "\n",
              "        async function convertToInteractive(key) {\n",
              "          const element = document.querySelector('#df-74cdacb3-8e6c-4d0c-8988-c8b09aedc8fe');\n",
              "          const dataTable =\n",
              "            await google.colab.kernel.invokeFunction('convertToInteractive',\n",
              "                                                     [key], {});\n",
              "          if (!dataTable) return;\n",
              "\n",
              "          const docLinkHtml = 'Like what you see? Visit the ' +\n",
              "            '<a target=\"_blank\" href=https://colab.research.google.com/notebooks/data_table.ipynb>data table notebook</a>'\n",
              "            + ' to learn more about interactive tables.';\n",
              "          element.innerHTML = '';\n",
              "          dataTable['output_type'] = 'display_data';\n",
              "          await google.colab.output.renderOutput(dataTable, element);\n",
              "          const docLink = document.createElement('div');\n",
              "          docLink.innerHTML = docLinkHtml;\n",
              "          element.appendChild(docLink);\n",
              "        }\n",
              "      </script>\n",
              "    </div>\n",
              "  </div>\n",
              "  "
            ]
          },
          "metadata": {},
          "execution_count": 24
        }
      ]
    },
    {
      "cell_type": "code",
      "source": [
        "!pip install rdkit-pypi==2021.03.5"
      ],
      "metadata": {
        "id": "jge8P9wRt_Mp",
        "outputId": "fd0e6f9e-fcd3-4c41-cbe5-07686d540b8e",
        "colab": {
          "base_uri": "https://localhost:8080/"
        }
      },
      "execution_count": 57,
      "outputs": [
        {
          "output_type": "stream",
          "name": "stdout",
          "text": [
            "Looking in indexes: https://pypi.org/simple, https://us-python.pkg.dev/colab-wheels/public/simple/\n",
            "\u001b[31mERROR: Could not find a version that satisfies the requirement rdkit-pypi==2021.03.5 (from versions: 2021.9.2, 2021.9.2.1, 2021.9.3, 2021.9.4, 2021.9.5.1, 2022.3.1b1, 2022.3.1, 2022.3.1.1, 2022.3.2, 2022.3.2.1, 2022.3.3, 2022.3.4, 2022.3.5, 2022.9.1, 2022.9.2, 2022.9.3, 2022.9.4, 2022.9.5, 2023.3.1b1)\u001b[0m\u001b[31m\n",
            "\u001b[0m\u001b[31mERROR: No matching distribution found for rdkit-pypi==2021.03.5\u001b[0m\u001b[31m\n",
            "\u001b[0m"
          ]
        }
      ]
    },
    {
      "cell_type": "code",
      "source": [
        "!git clone https://github.com/rdkit/rdkit.git"
      ],
      "metadata": {
        "id": "peAklumhuKjB",
        "outputId": "76654079-1738-4909-c99f-6e92f683f250",
        "colab": {
          "base_uri": "https://localhost:8080/"
        }
      },
      "execution_count": 58,
      "outputs": [
        {
          "output_type": "stream",
          "name": "stdout",
          "text": [
            "Cloning into 'rdkit'...\n",
            "remote: Enumerating objects: 83911, done.\u001b[K\n",
            "remote: Counting objects: 100% (1106/1106), done.\u001b[K\n",
            "remote: Compressing objects: 100% (845/845), done.\u001b[K\n",
            "remote: Total 83911 (delta 344), reused 619 (delta 252), pack-reused 82805\u001b[K\n",
            "Receiving objects: 100% (83911/83911), 195.11 MiB | 23.71 MiB/s, done.\n",
            "Resolving deltas: 100% (64018/64018), done.\n",
            "Updating files: 100% (4316/4316), done.\n"
          ]
        }
      ]
    },
    {
      "cell_type": "code",
      "source": [
        "%cd rdkit"
      ],
      "metadata": {
        "id": "RcGcIUUCuNcY",
        "outputId": "600887f4-6f33-44fe-eff0-f579dc80d81c",
        "colab": {
          "base_uri": "https://localhost:8080/"
        }
      },
      "execution_count": 59,
      "outputs": [
        {
          "output_type": "stream",
          "name": "stdout",
          "text": [
            "/content/rdkit\n"
          ]
        }
      ]
    },
    {
      "cell_type": "code",
      "source": [
        "!python setup.py install"
      ],
      "metadata": {
        "id": "AXZB0sWSuVjp",
        "outputId": "3248ae5a-6f3a-4ad6-c016-7b972befa139",
        "colab": {
          "base_uri": "https://localhost:8080/"
        }
      },
      "execution_count": 61,
      "outputs": [
        {
          "output_type": "stream",
          "name": "stdout",
          "text": [
            "python3: can't open file '/content/rdkit/setup.py': [Errno 2] No such file or directory\n"
          ]
        }
      ]
    },
    {
      "cell_type": "code",
      "source": [
        "!apt-get update"
      ],
      "metadata": {
        "id": "53wC5gLuubuq",
        "outputId": "f863e280-ea64-4292-fcbb-66c95ff5f07e",
        "colab": {
          "base_uri": "https://localhost:8080/"
        }
      },
      "execution_count": 62,
      "outputs": [
        {
          "output_type": "stream",
          "name": "stdout",
          "text": [
            "\r0% [Working]\r            \rHit:1 http://archive.ubuntu.com/ubuntu focal InRelease\n",
            "\r0% [Connecting to security.ubuntu.com] [Connected to cloud.r-project.org (108.1\r                                                                               \rGet:2 http://archive.ubuntu.com/ubuntu focal-updates InRelease [114 kB]\n",
            "\r0% [2 InRelease 15.6 kB/114 kB 14%] [Connecting to security.ubuntu.com (185.125\r                                                                               \rGet:3 https://developer.download.nvidia.com/compute/cuda/repos/ubuntu2004/x86_64  InRelease [1,581 B]\n",
            "Get:4 https://cloud.r-project.org/bin/linux/ubuntu focal-cran40/ InRelease [3,622 B]\n",
            "Get:5 http://ppa.launchpad.net/c2d4u.team/c2d4u4.0+/ubuntu focal InRelease [18.1 kB]\n",
            "Get:6 http://archive.ubuntu.com/ubuntu focal-backports InRelease [108 kB]\n",
            "Get:7 http://security.ubuntu.com/ubuntu focal-security InRelease [114 kB]\n",
            "Hit:8 http://ppa.launchpad.net/cran/libgit2/ubuntu focal InRelease\n",
            "Get:9 https://developer.download.nvidia.com/compute/cuda/repos/ubuntu2004/x86_64  Packages [1,010 kB]\n",
            "Hit:10 http://ppa.launchpad.net/deadsnakes/ppa/ubuntu focal InRelease\n",
            "Get:11 http://archive.ubuntu.com/ubuntu focal-updates/universe amd64 Packages [1,343 kB]\n",
            "Hit:12 http://ppa.launchpad.net/graphics-drivers/ppa/ubuntu focal InRelease\n",
            "Get:13 http://archive.ubuntu.com/ubuntu focal-updates/main amd64 Packages [3,158 kB]\n",
            "Hit:14 http://ppa.launchpad.net/ubuntugis/ppa/ubuntu focal InRelease\n",
            "Get:15 http://ppa.launchpad.net/c2d4u.team/c2d4u4.0+/ubuntu focal/main Sources [2,561 kB]\n",
            "Get:16 http://security.ubuntu.com/ubuntu focal-security/main amd64 Packages [2,680 kB]\n",
            "Get:17 http://security.ubuntu.com/ubuntu focal-security/universe amd64 Packages [1,048 kB]\n",
            "Fetched 12.2 MB in 3s (4,795 kB/s)\n",
            "Reading package lists... Done\n"
          ]
        }
      ]
    },
    {
      "cell_type": "code",
      "source": [
        "!apt-get install -y build-essential python3-dev python3-pip python3-venv libxrender1 libfontconfig1 libxtst6 libxi6"
      ],
      "metadata": {
        "id": "Ywn6JkxculXo",
        "outputId": "32429d93-2136-4763-818b-7ebbbf8cdb0a",
        "colab": {
          "base_uri": "https://localhost:8080/"
        }
      },
      "execution_count": 63,
      "outputs": [
        {
          "output_type": "stream",
          "name": "stdout",
          "text": [
            "Reading package lists... Done\n",
            "Building dependency tree       \n",
            "Reading state information... Done\n",
            "libfontconfig1 is already the newest version (2.13.1-2ubuntu3).\n",
            "libfontconfig1 set to manually installed.\n",
            "libxi6 is already the newest version (2:1.7.10-0ubuntu1).\n",
            "libxi6 set to manually installed.\n",
            "libxrender1 is already the newest version (1:0.9.10-1).\n",
            "libxrender1 set to manually installed.\n",
            "python3-dev is already the newest version (3.8.2-0ubuntu2).\n",
            "python3-dev set to manually installed.\n",
            "build-essential is already the newest version (12.8ubuntu1.1).\n",
            "The following additional packages will be installed:\n",
            "  python-pip-whl python3-setuptools python3-wheel python3.8-venv\n",
            "Suggested packages:\n",
            "  python-setuptools-doc\n",
            "The following NEW packages will be installed:\n",
            "  libxtst6 python-pip-whl python3-pip python3-setuptools python3-venv\n",
            "  python3-wheel python3.8-venv\n",
            "0 upgraded, 7 newly installed, 0 to remove and 30 not upgraded.\n",
            "Need to get 2,409 kB of archives.\n",
            "After this operation, 5,017 kB of additional disk space will be used.\n",
            "Get:1 http://archive.ubuntu.com/ubuntu focal/main amd64 libxtst6 amd64 2:1.2.3-1 [12.8 kB]\n",
            "Get:2 http://archive.ubuntu.com/ubuntu focal-updates/universe amd64 python-pip-whl all 20.0.2-5ubuntu1.8 [1,805 kB]\n",
            "Get:3 http://archive.ubuntu.com/ubuntu focal-updates/main amd64 python3-setuptools all 45.2.0-1ubuntu0.1 [330 kB]\n",
            "Get:4 http://archive.ubuntu.com/ubuntu focal-updates/universe amd64 python3-wheel all 0.34.2-1ubuntu0.1 [23.9 kB]\n",
            "Get:5 http://archive.ubuntu.com/ubuntu focal-updates/universe amd64 python3-pip all 20.0.2-5ubuntu1.8 [231 kB]\n",
            "Get:6 http://archive.ubuntu.com/ubuntu focal-updates/universe amd64 python3.8-venv amd64 3.8.10-0ubuntu1~20.04.7 [5,452 B]\n",
            "Get:7 http://archive.ubuntu.com/ubuntu focal/universe amd64 python3-venv amd64 3.8.2-0ubuntu2 [1,228 B]\n",
            "Fetched 2,409 kB in 0s (7,683 kB/s)\n",
            "Selecting previously unselected package libxtst6:amd64.\n",
            "(Reading database ... 122518 files and directories currently installed.)\n",
            "Preparing to unpack .../0-libxtst6_2%3a1.2.3-1_amd64.deb ...\n",
            "Unpacking libxtst6:amd64 (2:1.2.3-1) ...\n",
            "Selecting previously unselected package python-pip-whl.\n",
            "Preparing to unpack .../1-python-pip-whl_20.0.2-5ubuntu1.8_all.deb ...\n",
            "Unpacking python-pip-whl (20.0.2-5ubuntu1.8) ...\n",
            "Selecting previously unselected package python3-setuptools.\n",
            "Preparing to unpack .../2-python3-setuptools_45.2.0-1ubuntu0.1_all.deb ...\n",
            "Unpacking python3-setuptools (45.2.0-1ubuntu0.1) ...\n",
            "Selecting previously unselected package python3-wheel.\n",
            "Preparing to unpack .../3-python3-wheel_0.34.2-1ubuntu0.1_all.deb ...\n",
            "Unpacking python3-wheel (0.34.2-1ubuntu0.1) ...\n",
            "Selecting previously unselected package python3-pip.\n",
            "Preparing to unpack .../4-python3-pip_20.0.2-5ubuntu1.8_all.deb ...\n",
            "Unpacking python3-pip (20.0.2-5ubuntu1.8) ...\n",
            "Selecting previously unselected package python3.8-venv.\n",
            "Preparing to unpack .../5-python3.8-venv_3.8.10-0ubuntu1~20.04.7_amd64.deb ...\n",
            "Unpacking python3.8-venv (3.8.10-0ubuntu1~20.04.7) ...\n",
            "Selecting previously unselected package python3-venv.\n",
            "Preparing to unpack .../6-python3-venv_3.8.2-0ubuntu2_amd64.deb ...\n",
            "Unpacking python3-venv (3.8.2-0ubuntu2) ...\n",
            "Setting up python3-setuptools (45.2.0-1ubuntu0.1) ...\n",
            "Setting up libxtst6:amd64 (2:1.2.3-1) ...\n",
            "Setting up python3-wheel (0.34.2-1ubuntu0.1) ...\n",
            "Setting up python-pip-whl (20.0.2-5ubuntu1.8) ...\n",
            "Setting up python3.8-venv (3.8.10-0ubuntu1~20.04.7) ...\n",
            "Setting up python3-pip (20.0.2-5ubuntu1.8) ...\n",
            "Setting up python3-venv (3.8.2-0ubuntu2) ...\n",
            "Processing triggers for man-db (2.9.1-1) ...\n",
            "Processing triggers for libc-bin (2.31-0ubuntu9.9) ...\n"
          ]
        }
      ]
    },
    {
      "cell_type": "code",
      "source": [
        "!pip install rdkit-pypi==2021.03.5"
      ],
      "metadata": {
        "id": "ORA51EsGuvFH",
        "outputId": "9ddda4a1-1d57-4157-e314-578bf953f0ac",
        "colab": {
          "base_uri": "https://localhost:8080/"
        }
      },
      "execution_count": 64,
      "outputs": [
        {
          "output_type": "stream",
          "name": "stdout",
          "text": [
            "Looking in indexes: https://pypi.org/simple, https://us-python.pkg.dev/colab-wheels/public/simple/\n",
            "\u001b[31mERROR: Could not find a version that satisfies the requirement rdkit-pypi==2021.03.5 (from versions: 2021.9.2, 2021.9.2.1, 2021.9.3, 2021.9.4, 2021.9.5.1, 2022.3.1b1, 2022.3.1, 2022.3.1.1, 2022.3.2, 2022.3.2.1, 2022.3.3, 2022.3.4, 2022.3.5, 2022.9.1, 2022.9.2, 2022.9.3, 2022.9.4, 2022.9.5, 2023.3.1b1)\u001b[0m\u001b[31m\n",
            "\u001b[0m\u001b[31mERROR: No matching distribution found for rdkit-pypi==2021.03.5\u001b[0m\u001b[31m\n",
            "\u001b[0m"
          ]
        }
      ]
    },
    {
      "cell_type": "code",
      "source": [
        "from rdkit.Chem import Pharm2D\n",
        "from rdkit.Chem import Descriptors"
      ],
      "metadata": {
        "id": "pSKsd7PfqNi7"
      },
      "execution_count": 55,
      "outputs": []
    },
    {
      "cell_type": "code",
      "source": [
        "# define the fingerprints and their respective parameters\n",
        "fingerprints = {\n",
        "    'PubChem': (AllChem.GetMorganFingerprintAsBitVect, [2, 1024]),\n",
        "    'ECFP6': (AllChem.GetMorganFingerprintAsBitVect, [3, 2048]),\n",
        "    'MACCS': (Chem.rdMolDescriptors.GetMACCSKeysFingerprint, []),\n",
        "    'AP2D': (AllChem.GetHashedAtomPairFingerprintAsBitVect, [2048]),\n",
        "    'Estate': (Chem.Pharm2D, []),\n",
        "    'Hybrid': (lambda x: np.concatenate([AllChem.GetMorganFingerprintAsBitVect(x, 2, 1024),\n",
        "                                          AllChem.GetHashedTopologicalTorsionFingerprintAsBitVect(x, 1024)]), []),\n",
        "    'KR': (AllChem.GetHashedAtomPairFingerprintAsBitVect, [2048]),\n",
        "    'Circle': (AllChem.GetMorganFingerprintAsBitVect, [3, 2048]),\n",
        "    'FP4C': (lambda x: Chem.RDKFingerprint(x, fpSize=1024, minPath=1, maxPath=7, fpType=\"counts\", useHs=True), []),\n",
        "    'FP4': (lambda x: Chem.RDKFingerprint(x, fpSize=1024, minPath=1, maxPath=7, fpType=\"bitvector\", useHs=True), []),\n",
        "    'CKD': (Chem.rdMolDescriptors._CalcCrippenContribs, []),\n",
        "    'CKDGraph': (Chem.rdmolops.GetAdjacencyMatrix, []),\n",
        "}"
      ],
      "metadata": {
        "id": "ZdDjUlFmcM5K"
      },
      "execution_count": 65,
      "outputs": []
    },
    {
      "cell_type": "code",
      "source": [
        "# Prepare the input data for the machine learning models\n",
        "y = df['Value'].values\n",
        "X_fps = {}\n",
        "for fp_name, (fp_func, fp_args) in fingerprints.items():\n",
        "    X_fps[fp_name] = np.asarray([fp_func(Chem.MolFromSmiles(smi), *fp_args) for smi in df['canonical_smiles']])"
      ],
      "metadata": {
        "id": "FaoqNgOtcWRq"
      },
      "execution_count": 19,
      "outputs": []
    },
    {
      "cell_type": "code",
      "source": [
        "import pandas as pd\n",
        "from sklearn.ensemble import RandomForestClassifier, ExtraTreesClassifier\n",
        "from sklearn.tree import DecisionTreeClassifier\n",
        "from rdkit import Chem\n",
        "from rdkit.Chem import AllChem\n",
        "import numpy as np\n",
        "import torch\n",
        "import torch.nn as nn\n",
        "import torch.optim as optim"
      ],
      "metadata": {
        "id": "uD9wlw5ZBi2N"
      },
      "execution_count": 13,
      "outputs": []
    }
  ],
  "metadata": {
    "colab": {
      "name": "Welcome To Colaboratory",
      "provenance": [],
      "include_colab_link": true
    },
    "kernelspec": {
      "display_name": "Python 3",
      "name": "python3"
    }
  },
  "nbformat": 4,
  "nbformat_minor": 0
}