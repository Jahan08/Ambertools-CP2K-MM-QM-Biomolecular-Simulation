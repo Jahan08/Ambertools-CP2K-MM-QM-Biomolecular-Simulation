{
 "cells": [
  {
   "cell_type": "markdown",
   "id": "51165af3",
   "metadata": {},
   "source": [
    "# Preparing to run biomolecular with AMBERTOOLS and then QM/MM simulations with CP2K \n",
    "\n"
   ]
  },
  {
   "cell_type": "markdown",
   "id": "034032d3",
   "metadata": {},
   "source": [
    "# Preparing to run biomolecular with AMBERTOOLS "
   ]
  },
  {
   "cell_type": "markdown",
   "id": "63c13ed1",
   "metadata": {},
   "source": [
    "# Overview of AmberTools"
   ]
  },
  {
   "cell_type": "markdown",
   "id": "def49178",
   "metadata": {},
   "source": [
    "AmberTools suite is a set of several independent packages developed as part of the Amber22 software package and distributed free of charge. Its components are mostly released under the GNU General Public License (GPL). They work well by themselves, and with Amber22 itself. The list of packages is"
   ]
  },
  {
   "cell_type": "markdown",
   "id": "f573c90f",
   "metadata": {},
   "source": [
    "1.NAB/sff: a program for building molecules, running MD or applying distance geometry restraints using generalized Born, Poisson-Boltzmann or 3D-RISM implicit solvent models\n",
    "\n",
    "2.antechamber and MCPB: programs to create force fields for general organic molecules and metal centers\n",
    "\n",
    "3.tleap and parmed: basic preparatory tools for Amber simulations\n",
    "\n",
    "4.sqm: semiempirical and DFTB quantum chemistry program\n",
    "\n",
    "5.pbsa: Several linear and non-linear numerical solvers for Poisson-Boltzmann models\n",
    "\n",
    "6.3D-RISM: solves integral equation models for solvation\n",
    "\n",
    "7.sander: workhorse program for molecular dynamics simulations\n",
    "\n",
    "8.gem.pmemd: tools for using advanced force fields\n",
    "\n",
    "9.mdgx: a program for pushing the boundaries of Amber MD, primarily through parameter fitting. Also includes customizable virtual sites and explicit solvent MD capabilities.\n",
    "\n",
    "10.cpptraj and pytraj: tools for analyzing structure and dynamics in trajectories\n",
    "\n",
    "11.MMPBSA.py: energy-based analyses of MD trajectories\n"
   ]
  },
  {
   "cell_type": "markdown",
   "id": "338400e0",
   "metadata": {},
   "source": [
    "AmberTools package has multiple tools to prepare, simulate and analyse biological systems.\n",
    "You should familiarise yourself with tleap, pamred, nab, cpptraj, antechamber, parmch2 and sander as they will ususally be helpful to set up a biological system.\n",
    "\n",
    "1.tleap is used to generate topologies and coordinates for biological molecules.\n",
    "\n",
    "2.cpptraj is used to postprocess and analyse AMBER trajectories.\n",
    "\n",
    "3.antechamber is used to create parameters for non-standard aminoacids and drug-like molecules.\n",
    "\n",
    "4.sander runs molecular dynamics simulations\n",
    "\n",
    "5.parmed allows modifying AMBER topologies"
   ]
  },
  {
   "cell_type": "markdown",
   "id": "e778a0d0",
   "metadata": {},
   "source": [
    "# Preparing your PDB file"
   ]
  },
  {
   "cell_type": "markdown",
   "id": "504cf5db",
   "metadata": {},
   "source": [
    "We are going to use the X-ray structure of Mpro protein bound to a ligand from the PanDDA library. The PDB id we are going to use is 5R84. If you open this entry from the Protein DataBank you will find a lot of information of the protein structure:\n",
    "\n",
    "1. Experimental Data Snapshot\n",
    "2. wwPDB Validation\n",
    "3. Literature\n",
    "4. Macromolecules\n",
    "5. Small Molecules\n",
    "6. Experimental Data & Validation\n",
    "7. Entry History"
   ]
  },
  {
   "cell_type": "markdown",
   "id": "dc63dae2",
   "metadata": {},
   "source": [
    "The sections Macromolecules and Small Molecules give us information about the contents of the PDB file. We can see that there is only one macromolecule (only one chain) that corresponds to SARS-CoV-2 main protease. There are two small molecules in the structure: DMS and GWS.\n",
    "DMS is a crystallisation product and it doesn’t interest us.\n",
    "GWS is the fragment we want to model.\n",
    "Once we know which molecules from the PDB file we want to model and which should be deleted from the PDB file, we can continue. You can download the PDB file from the website yourself or use the one we are providing in this repository."
   ]
  },
  {
   "cell_type": "code",
   "execution_count": null,
   "id": "ad0459aa",
   "metadata": {},
   "outputs": [],
   "source": [
    "!grep -v -e \"GWS\" -e \"DMS\" -e \"CONECT\" -e \"HOH\" 5r84.pdb >  protein.pdb"
   ]
  },
  {
   "cell_type": "code",
   "execution_count": null,
   "id": "90c16d40",
   "metadata": {},
   "outputs": [],
   "source": [
    "!grep \"GWS\" 5r84.pdb > GWS.pdb"
   ]
  },
  {
   "cell_type": "code",
   "execution_count": null,
   "id": "68891919",
   "metadata": {},
   "outputs": [],
   "source": [
    "!grep \"HOH\" 5r84.pdb > waters.pdb"
   ]
  },
  {
   "cell_type": "markdown",
   "id": "9d7879a2",
   "metadata": {},
   "source": [
    "# Replicating the experimental/target conditions\n",
    "\n"
   ]
  },
  {
   "cell_type": "markdown",
   "id": "ba44cb44",
   "metadata": {},
   "source": [
    "It is important to take into account experimental conditions of the system we want to simulate such as the pH, salinity… Since Mpro protein from SARS-CoV2 is located in the cytosol of the infected human cell, we are going to assume a pH=7.4. Do not asume that will always be the case in the future, you should always, please check the literature on your target protein before you start running your simulations.\n",
    "\n"
   ]
  },
  {
   "cell_type": "markdown",
   "id": "8fb43181",
   "metadata": {},
   "source": [
    "# Assessing the protonation states of the protein and preparing the protein for AmberTools\n",
    "\n"
   ]
  },
  {
   "cell_type": "markdown",
   "id": "e10e3553",
   "metadata": {},
   "source": [
    "There are several methods to assess the protonation state of the residues in a protein (for further information, here). For example, the H++ server and PROPKA software can help you in the future. We are only going to use PROPKA command-line in this workshop."
   ]
  },
  {
   "cell_type": "markdown",
   "id": "dfac50eb",
   "metadata": {},
   "source": [
    "PROPKA returns the calculated pKa values for tritable residues in the protein. These are aminoacids, whose sidechain contains a chemical moiety that can change its protonation state depending on the pH of the environment they are found in. You have acidic residues (typically ASP and GLU, but in extreme environments TYR, SER and CYS can act as acids) and basic residues (LYS, ARG and HIS).\n",
    "\n",
    "Protein forcefield encode these protonation states as different residue names (i.e. GLU and GLH for the two states of glutamic acid). You can find more information about these residues, and how its pKa depends on the chemical environment here .\n",
    "\n",
    "When preparing a protein, we have to compare each one of the predicted pKa values with the chosen pH: if the pKa is below the chosen pH the residue should be deprotonated (that is acidic residues will be negatively charged and basic residues will be neutral), if above it will be protonated (acidic residues will be neutral and basic residues will be positively charged)."
   ]
  },
  {
   "cell_type": "code",
   "execution_count": null,
   "id": "034b768b",
   "metadata": {},
   "outputs": [],
   "source": [
    "! propka3 protein.pdb "
   ]
  },
  {
   "cell_type": "markdown",
   "id": "fcfa5bd7",
   "metadata": {},
   "source": [
    "# Histidine\n",
    "Histidines are tricky residues, they have three possible protonation states: HID, HIE and HIP. HIP is the protonated residue. HID and HIE correspond to the two natural tautomers of the neutral histidine, where the proton can be found in delta or epsilon positions. In solution, the most common conformer is HIE but always visualise your structure before assuming any histidine protonation state."
   ]
  },
  {
   "cell_type": "markdown",
   "id": "2465e5c9",
   "metadata": {},
   "source": [
    "# Converting PDB to Amber file format"
   ]
  },
  {
   "cell_type": "markdown",
   "id": "9599f2b9",
   "metadata": {},
   "source": [
    "Last but not least, we need to clean the PDB file before passing it to AmberTools (removing residues with double ocupation, checking for disulfide bonds, …). So we are going to use the first AmberTools tool: pdb4amber which prepares your PDB file."
   ]
  },
  {
   "cell_type": "code",
   "execution_count": null,
   "id": "06cbd2f4",
   "metadata": {},
   "outputs": [],
   "source": [
    "! /Users/nj465/opt/anaconda3/envs/AmberTools22/bin/pdb4amber -i protein.pdb -o protein4amber.pdb"
   ]
  },
  {
   "cell_type": "markdown",
   "id": "b68a00cb",
   "metadata": {},
   "source": [
    "The output above gives you a lot of information. First it tells you that your protein is composed of a single chain. Then it informs you that some residues had alternate conformations in the X-ray structure, but that only the first occurrence for each atom was kept.\n",
    "\n",
    "pdb4amber informs us about the duplicity of several sidechains, disulphide bonds and missing heavy atoms. However, it does not check protonation states for protein residues and therefore we ALWAYS must run a pKa calculation first and apply the required changes to the PDB."
   ]
  },
  {
   "cell_type": "markdown",
   "id": "f42dd3f0",
   "metadata": {},
   "source": [
    "# Parameterising your ligands"
   ]
  },
  {
   "cell_type": "markdown",
   "id": "aad74843",
   "metadata": {},
   "source": [
    "Generate parameters for GWS ligand using antechamber and parmchk2."
   ]
  },
  {
   "cell_type": "markdown",
   "id": "fceee687",
   "metadata": {},
   "source": [
    "In this tutorial, we will make use of the antechamber and parmchk2 tools from AmberTools package to generate AMBER force field parameters. We will use the “general AMBER force field 2 (GAFF2)” parameters. This force field was designed to provide atom types and atom parameters needed to parameterise most pharmaceutical molecules, and is compatible with the traditional AMBER force fields for proteins. To assign partial charges, we are going to use AM1-BCC2 charge method. It is an inexpensive and fast method for calculating partial charges and be we don’t need to worry too much about its limitations as partial charges won’t be used during production runs due to the QM treatment of the ligand in the QM/MM simulation."
   ]
  },
  {
   "cell_type": "markdown",
   "id": "5e1351e1",
   "metadata": {},
   "source": [
    "antechamber allows the rapid generation of topology files for use with the AMBER simulation programs. It is a higher-level wrapper around other AmberTools programs (sqm, divcon, atomtype, am1bcc, bondtype, espgen, respgen and prepgen) and is able to:\n",
    "\n",
    "1. Automatically identify bond and atom types\n",
    "2. Judge atomic equivalence\n",
    "3. Generate residue topology files\n",
    "4. Find missing force field parameters and supply reasonable suggestions"
   ]
  },
  {
   "cell_type": "markdown",
   "id": "e4439b6c",
   "metadata": {},
   "source": [
    "We will use antechamber to assign atom types to the GWS ligand and calculate a set of point charges. We will have to specify GAFF2 force field (-at gaff2, more information on the parameters here: $AMBERHOME/dat/leap/parm/gaff2.dat), the AM1-BCC2 charge method (-c bcc), the net charge of the molecule (-nc 0) and the name of the new residue generated (We are going to keep GWS: -rn GWS). We are going to output a mol2-type file (-fo mol2) containing the atomtypes and the point charges."
   ]
  },
  {
   "cell_type": "code",
   "execution_count": null,
   "id": "fa95fbe1",
   "metadata": {},
   "outputs": [],
   "source": [
    "! /Users/nj465/opt/anaconda3/envs/AmberTools22/bin/antechamber -i GWS.H.pdb -fi pdb -o GWS.mol2 -fo mol2 -c bcc -nc 0 -rn GWS -at gaff2"
   ]
  },
  {
   "cell_type": "markdown",
   "id": "33d892fc",
   "metadata": {},
   "source": [
    "This step generates a lot of intermediate files (in capital letters). You can safely delete them as these are used in antechamber and we no longer require them. The sqm.xxx files are input and output from the sqm quantum mechanics code used by antechamber to calculate the atomic point charges. We are not interested in the data here except to check that the sqm calculation completed successfully."
   ]
  },
  {
   "cell_type": "code",
   "execution_count": 3,
   "id": "f4ed5335",
   "metadata": {},
   "outputs": [
    {
     "name": "stdout",
     "output_type": "stream",
     "text": [
      "  QMMM:    28       28      H        2.4540   -0.7994   -1.9818\r\n",
      "  QMMM:    29       29      H        0.1680   -0.0745    0.6032\r\n",
      "  QMMM:    30       30      H       -5.0099    2.3010   -0.3234\r\n",
      "  QMMM:    31       31      H       -4.1135    1.2813    1.8135\r\n",
      "  QMMM:    32       32      H       -1.7988    0.3489    1.8379\r\n",
      "  QMMM:    33       33      H       -1.4809    1.5305   -2.3735\r\n",
      "  QMMM:    34       34      H        3.1030    1.6086   -1.2938\r\n",
      "\r\n",
      "           --------- Calculation Completed ----------\r\n",
      "\r\n"
     ]
    }
   ],
   "source": [
    "! tail sqm.out"
   ]
  },
  {
   "cell_type": "markdown",
   "id": "cb8f2926",
   "metadata": {},
   "source": [
    "Once we are sure that the point charges were generated The MOL2 file contains tridimensional information of the molecule as well as atom type and point charges. You can find more information on the MOL2 format here. The resulting MOL2 file is shown below:"
   ]
  },
  {
   "cell_type": "code",
   "execution_count": 5,
   "id": "ccb0b92a",
   "metadata": {},
   "outputs": [
    {
     "name": "stdout",
     "output_type": "stream",
     "text": [
      "@<TRIPOS>MOLECULE\r\n",
      "GWS\r\n",
      "   34    35     1     0     0\r\n",
      "SMALL\r\n",
      "bcc\r\n",
      "\r\n",
      "\r\n",
      "@<TRIPOS>ATOM\r\n",
      "      1 N           -3.2590     2.8360     0.0000 nb         0 GWS      -0.643000\r\n",
      "      2 C           -4.5930     2.0660     0.0000 ca         0 GWS       0.363200\r\n",
      "      3 C1          -4.5930     0.5260     0.0000 ca         0 GWS      -0.219300\r\n",
      "      4 C2          -3.2590    -0.2440     0.0000 ca         0 GWS      -0.156000\r\n",
      "      5 C3          -1.9260     0.5260     0.0000 ca         0 GWS      -0.046700\r\n",
      "      6 C4          -1.9260     2.0660     0.0000 ca         0 GWS       0.374200\r\n",
      "      7 N1          -0.5920    -0.2440     0.0000 ns         0 GWS      -0.467100\r\n",
      "      8 C5           0.7420     0.5260     0.0000 c          0 GWS       0.667100\r\n",
      "      9 C6           2.0750    -0.2440     0.0000 c3         0 GWS      -0.150400\r\n",
      "     10 C7           3.4090     0.5260     0.0000 c3         0 GWS      -0.062700\r\n",
      "     11 C8           4.7430    -0.2440     0.0000 c3         0 GWS      -0.075900\r\n",
      "     12 C9           6.0770     0.5260     0.0000 c3         0 GWS      -0.075900\r\n",
      "     13 C10          6.0770     2.0660     0.0000 c3         0 GWS      -0.078400\r\n",
      "     14 C11          4.7430     2.8360     0.0000 c3         0 GWS      -0.075900\r\n",
      "     15 C12          3.4090     2.0660     0.0000 c3         0 GWS      -0.075900\r\n",
      "     16 O            0.7420     1.3710    -1.1540 o          0 GWS      -0.585100\r\n",
      "     17 H            4.7430     3.4680     0.8630 hc         0 GWS       0.043700\r\n",
      "     18 H1           4.7430     3.4680    -0.8630 hc         0 GWS       0.043700\r\n",
      "     19 H2           6.6250     2.3820     0.8630 hc         0 GWS       0.040700\r\n",
      "     20 H3           6.6250     2.3820    -0.8630 hc         0 GWS       0.040700\r\n",
      "     21 H4           6.6250     0.2100     0.8630 hc         0 GWS       0.043700\r\n",
      "     22 H5           6.6250     0.2100    -0.8630 hc         0 GWS       0.043700\r\n",
      "     23 H6           4.7430    -0.8760     0.8630 hc         0 GWS       0.040450\r\n",
      "     24 H7           4.7430    -0.8760    -0.8630 hc         0 GWS       0.040450\r\n",
      "     25 H8           2.8610     2.3820    -0.8630 hc         0 GWS       0.040450\r\n",
      "     26 H9           2.8610     2.3820     0.8630 hc         0 GWS       0.040450\r\n",
      "     27 H10          2.0750    -0.8760     0.8630 hc         0 GWS       0.070200\r\n",
      "     28 H11          2.0750    -0.8760    -0.8630 hc         0 GWS       0.070200\r\n",
      "     29 H12         -0.5920    -1.2440     0.0000 hn         0 GWS       0.316500\r\n",
      "     30 H13         -5.5200     2.6010     0.0000 h4         0 GWS       0.023100\r\n",
      "     31 H14         -5.5200    -0.0090     0.0000 ha         0 GWS       0.142000\r\n",
      "     32 H15         -3.2590    -1.3140     0.0000 ha         0 GWS       0.133000\r\n",
      "     33 H16         -0.9990     2.6010     0.0000 h4         0 GWS       0.063100\r\n",
      "     34 H17          3.4090     0.5260    -1.0700 hc         0 GWS       0.071700\r\n",
      "@<TRIPOS>BOND\r\n",
      "     1     1     2 ar  \r\n",
      "     2     1     6 ar  \r\n",
      "     3     2     3 ar  \r\n",
      "     4     2    30 1   \r\n",
      "     5     3     4 ar  \r\n",
      "     6     3    31 1   \r",
      "\r\n",
      "     7     4     5 ar  \r\n",
      "     8     4    32 1   \r\n",
      "     9     5     6 ar  \r\n",
      "    10     5     7 1   \r\n",
      "    11     6    33 1   \r\n",
      "    12     7     8 1   \r\n",
      "    13     7    29 1   \r\n",
      "    14     8     9 1   \r\n",
      "    15     8    16 2   \r\n",
      "    16     9    10 1   \r\n",
      "    17     9    27 1   \r\n",
      "    18     9    28 1   \r\n",
      "    19    10    11 1   \r\n",
      "    20    10    15 1   \r\n",
      "    21    10    34 1   \r\n",
      "    22    11    12 1   \r\n",
      "    23    11    23 1   \r\n",
      "    24    11    24 1   \r\n",
      "    25    12    13 1   \r\n",
      "    26    12    21 1   \r\n",
      "    27    12    22 1   \r\n",
      "    28    13    14 1   \r\n",
      "    29    13    19 1   \r\n",
      "    30    13    20 1   \r\n",
      "    31    14    15 1   \r\n",
      "    32    14    17 1   \r\n",
      "    33    14    18 1   \r\n",
      "    34    15    25 1   \r\n",
      "    35    15    26 1   \r\n",
      "@<TRIPOS>SUBSTRUCTURE\r\n",
      "     1 GWS         1 TEMP              0 ****  ****    0 ROOT\r\n"
     ]
    }
   ],
   "source": [
    "! cat GWS.mol2"
   ]
  },
  {
   "cell_type": "markdown",
   "id": "fb7fe165",
   "metadata": {},
   "source": [
    "The GAFF and GAFF2 atom types are in lower case. This is the mechanism by which the GAFF force field is kept independent from the macromolecular AMBER force fields. All of the traditional AMBER force fields use uppercase atom types. In this way the GAFF and traditional force fields can be mixed in the same calculation.\n"
   ]
  },
  {
   "cell_type": "markdown",
   "id": "0ac0b1fc",
   "metadata": {},
   "source": [
    "# Looking for missing force field parameters with parmchk2"
   ]
  },
  {
   "cell_type": "markdown",
   "id": "2712e0b1",
   "metadata": {},
   "source": [
    "While the most likely combinations of bond, angle and dihedral parameters are defined in the parameter file it is possible that our molecule might contain combinations of atom types for bonds, angles or dihedrals that have not been parameterised. If this is the case, we will have to specify any missing parameters before we can create our prmtop and inpcrd files in LEap.\n",
    "\n",
    "We will use parmchk2 to test if all the parameters we require are available."
   ]
  },
  {
   "cell_type": "code",
   "execution_count": 1,
   "id": "c69c95a9",
   "metadata": {},
   "outputs": [],
   "source": [
    "! /Users/nj465/opt/anaconda3/envs/AmberTools22/bin/parmchk2 -i GWS.mol2 -f mol2 -o GWS.frcmod -s gaff2"
   ]
  },
  {
   "cell_type": "markdown",
   "id": "5e5a9ca0",
   "metadata": {},
   "source": [
    "parmchk2 generates a parameter file that can be loaded into Leap in order to add missing parameters. It contains all of the missing parameters. If possible, it will fill in these missing parameters by analogy to a similar parameter. Let’s look at the generated GWS.frcmod file:"
   ]
  },
  {
   "cell_type": "code",
   "execution_count": 2,
   "id": "ec3732e4",
   "metadata": {},
   "outputs": [
    {
     "name": "stdout",
     "output_type": "stream",
     "text": [
      "Remark line goes here\r\n",
      "MASS\r\n",
      "\r\n",
      "BOND\r\n",
      "ca-ns  315.20   1.412       same as ca- n, penalty score=  0.0\r\n",
      "c -ns  356.20   1.379       same as  c- n, penalty score=  0.0\r\n",
      "hn-ns  527.30   1.013       same as hn- n, penalty score=  0.0\r\n",
      "\r\n",
      "ANGLE\r\n",
      "ca-ca-ns   85.600     120.190   same as ca-ca-n , penalty score=  0.0\r\n",
      "c -ns-ca   65.700     123.710   same as c -n -ca, penalty score=  0.0\r\n",
      "ca-ns-hn   48.000     116.000   same as ca-n -hn, penalty score=  0.0\r\n",
      "c3-c -ns   84.300     115.180   same as c3-c -n , penalty score=  0.0\r\n",
      "ns-c -o   113.800     123.050   same as n -c -o , penalty score=  0.0\r\n",
      "c -ns-hn   48.700     117.550   same as c -n -hn, penalty score=  0.0\r\n",
      "\r\n",
      "DIHE\r\n",
      "ca-ca-ns-c    1    0.950       180.000           2.000      same as c -n -ca-ca, penalty score=  0.0\r\n",
      "ca-ca-ns-hn   4    1.800       180.000           2.000      same as X -ca-n -X , penalty score=  0.0\r\n",
      "c3-c -ns-ca   1    0.750       180.000          -2.000      same as c3-c -n -ca\r\n",
      "c3-c -ns-ca   1    0.500         0.000           3.000      same as c3-c -n -ca, penalty score=  0.0\r\n",
      "o -c -ns-ca   4   10.000       180.000           2.000      same as X -c -n -X , penalty score=  0.0\r\n",
      "ns-c -c3-c3   1    0.000       180.000          -4.000      same as n -c -c3-c3\r\n",
      "ns-c -c3-c3   1    0.710       180.000           2.000      same as n -c -c3-c3, penalty score=  0.0\r\n",
      "c3-c -ns-hn   4   10.000       180.000           2.000      same as X -c -n -X , penalty score=  0.0\r\n",
      "o -c -ns-hn   1    2.500       180.000          -2.000      same as hn-n -c -o \r\n",
      "o -c -ns-hn   1    2.000         0.000           1.000      same as hn-n -c -o , penalty score=  0.0\r\n",
      "\r\n",
      "IMPROPER\r\n",
      "ca-h4-ca-nb         1.1          180.0         2.0          Same as X -X -ca-ha, penalty score= 44.3 (use general term))\r\n",
      "ca-ca-ca-ha         1.1          180.0         2.0          Using general improper torsional angle  X- X-ca-ha, penalty score=  6.0)\r\n",
      "ca-ca-ca-ns         1.1          180.0         2.0          Using the default value\r\n",
      "c -ca-ns-hn         1.1          180.0         2.0          Same as X -X -n -hn, penalty score=  6.0 (use general term))\r\n",
      "c3-ns-c -o         10.5          180.0         2.0          Using general improper torsional angle  X- X- c- o, penalty score=  6.0)\r\n",
      "\r\n",
      "NONBON\r\n",
      "\r\n",
      "\r\n",
      "\r\n"
     ]
    }
   ],
   "source": [
    "! cat GWS.frcmod"
   ]
  },
  {
   "cell_type": "markdown",
   "id": "ae7082ba",
   "metadata": {},
   "source": [
    "# TIP\n",
    "You should check these parameters carefully before running a simulation. If antechamber can’t empirically calculate a value or has no analogy it will either add a default value that it thinks is reasonable or alternatively insert a place holder (with zeros everywhere) and the comment “ATTN: needs revision”. In this case you will have to manually parameterise this yourself. See the links at the beginning of the section."
   ]
  },
  {
   "cell_type": "markdown",
   "id": "fb24c1b9",
   "metadata": {},
   "source": [
    "#Key points\n",
    "\n",
    "1. Generating parameters for non-conventinal residues is not easy and there are different ways to parameterise them.\n",
    "2. The quality of the parameters is important to obtain valid results.\n",
    "3. antechamber creates parameters for a non-conventional residues.\n",
    "4. ALWAYS check the parameters for your system and test that they behave as expected"
   ]
  },
  {
   "cell_type": "markdown",
   "id": "f08a5a2e",
   "metadata": {},
   "source": [
    "# System set up"
   ]
  },
  {
   "cell_type": "markdown",
   "id": "38a367c3",
   "metadata": {},
   "source": [
    "Generate topology and coordinate files with tleap"
   ]
  },
  {
   "cell_type": "markdown",
   "id": "536de174",
   "metadata": {},
   "source": [
    "Once we have parameters for our ligand and have prepared a protein PDB file, we can start building our system and creating topology and coordinate files for AMBER. To create the mentioned files we will use LEaP. there are two versions of leap: the GUI version xLEaP and the terminal version tLEaP. xLEaP is better to learn Leap because you can visualise the result of each command you try. However, xLEaP is quite buggy and it can be frustrating before you get used to all its quirks."
   ]
  },
  {
   "cell_type": "markdown",
   "id": "f9bc3b0a",
   "metadata": {},
   "source": [
    "In this session, we are going to use tleap and I am going to walk you through every command we use. If you type tleap in your terminal you should enter in the tLEaP command-line. If you want to check what you did in previous session of LEaP, LEaP is quite verbose and informs you of everything it does as well as writing it into the leap.log file.\n",
    "\n",
    "We have prepared a LEaP script to set up our system, which we are going to explain briefly before executing it."
   ]
  },
  {
   "cell_type": "markdown",
   "id": "23791fbb",
   "metadata": {},
   "source": [
    "We are going to use default force fields (amberff14SB, tip3p and GAFF2) in this tutorial, so we can use the leaprc scripts already included in AMBER to load them into tleap:\n",
    "\n",
    "leaprc.protein.ff14SB for the protein\n",
    "leaprc.gaff2 for the ligand molecule\n",
    "leaprc.water.tip3p for the water molecules.\n",
    "\n",
    "# Load force field parameters\n",
    "source leaprc.protein.ff14SB\n",
    "source leaprc.gaff2\n",
    "source leaprc.water.tip3p"
   ]
  },
  {
   "cell_type": "markdown",
   "id": "e2608345",
   "metadata": {},
   "source": [
    "Now we have to load our three units (protein, ligand and water molecules) into tLeap. We are going to start with the ligand by lading the two files we have created before: GWS.frcmod and GWS.mol2 (In this case the mol2 file already includes the correct coordinates of the ligand). After, we load the coordinates for the protein and the water molecules with the loadPB command."
   ]
  },
  {
   "cell_type": "markdown",
   "id": "f2c83657",
   "metadata": {},
   "source": [
    "# Load extraparameters for the ligand\n",
    "loadamberparams GWS.frcmod\n",
    "\n",
    "# Load protein, ligand and water molecules\n",
    "protein = loadPDB protein4amber.pdb\n",
    "GWS = loadmol2 GWS.mol2\n",
    "waters = loadPDB waters.pdb"
   ]
  },
  {
   "cell_type": "markdown",
   "id": "b5e13321",
   "metadata": {},
   "source": [
    "From the very beginning of this series, we have split the system into these three pieces, now we join them again with the combine command.\n",
    "\n",
    "# Build system\n",
    "system = combine {GWS protein waters}\n",
    "savepdb system system.dry.pdb\n",
    "\n",
    "check system"
   ]
  },
  {
   "cell_type": "markdown",
   "id": "aded5096",
   "metadata": {},
   "source": [
    "It is good practice to check the resulting structure of this combination step (savePDB command to save a PDB file) and to perform a sanity check on the unit we have created by using the check command: this determines the charge of the system, flags up close contacts (it is normal to have them after adding hydrogen atoms), and checks if there are any missing parameters.\n"
   ]
  },
  {
   "cell_type": "markdown",
   "id": "52bcd9df",
   "metadata": {},
   "source": [
    "If the unit is OK, we can continue! Now we need to solvate it and add counterions to neutralise the system"
   ]
  },
  {
   "cell_type": "markdown",
   "id": "7c761d7a",
   "metadata": {},
   "source": [
    "To solvate the system, we can use 2 different commands: solvateOct and solvateBox. These commands differ in the shape of the resulting simulation box: the first command creates a truncated octahedron solvation box and the second a cubic solvation box. Despite truncated octahedric boxes being smaller and compatible with globular proteins, we are going to use solvateBox because CP2K only allows orthorombic boxes."
   ]
  },
  {
   "cell_type": "markdown",
   "id": "6b18dd39",
   "metadata": {},
   "source": [
    "Last but not least, we need to neutralise the system by adding counterions. To this end, we will add Na+ and Cl- ions until our box reaches the correct charge. This is done with the addions2 command."
   ]
  },
  {
   "cell_type": "markdown",
   "id": "1949ca82",
   "metadata": {},
   "source": [
    "# Solvate\n",
    "solvateBox system TIP3PBOX 10 iso\n",
    "\n",
    "# Neutralise\n",
    "addions2 system Cl- 0\n",
    "addions2 system Na+ 0"
   ]
  },
  {
   "cell_type": "markdown",
   "id": "925fbec5",
   "metadata": {},
   "source": [
    "Now we can proceed to save our topology and coordinate files with saveamberparm system system.parm7 system.rst7. Before doing anything else, LEaP checks that the unit it is OK and then proceeds to build the topology and write the coordinates. Finally, it prints a summary of the system molecules. We have a ligand named GWS and 13121 water molecules. It is important that you include the saveAmberParm command line, otherwise the information we have loaded will be lost once we exit LEap."
   ]
  },
  {
   "cell_type": "markdown",
   "id": "01147d3f",
   "metadata": {},
   "source": [
    "# Save AMBER input files\n",
    "savePDB system system.pdb\n",
    "saveAmberParm system system.parm7 system.rst7\n",
    "\n",
    "quit\n",
    "We have provided all these commands in a leapin file. To execute it you should type the following:\n",
    "\n",
    "tleap -f leapin"
   ]
  },
  {
   "cell_type": "markdown",
   "id": "6045b37d",
   "metadata": {},
   "source": [
    "#key Points\n",
    "\n",
    "LEap creates topologies and initial coordinates in AMBER format.\n",
    "LEap can generate initial coordinates from scratch if needed.\n",
    "xLEap (with GUI) and tLEap (through the terminal) are the two flavours of LEap.\n",
    "Your MM system should always be neutral, add counterions to neutralise your system.\n",
    "ALWAYS visualise and check the structures created by LEap."
   ]
  },
  {
   "cell_type": "markdown",
   "id": "74b27136",
   "metadata": {},
   "source": [
    "# Energy minimisation"
   ]
  },
  {
   "cell_type": "markdown",
   "id": "ecdfc406",
   "metadata": {},
   "source": [
    "We are going to minimise and equilibrate the system using the sander tool from AmberTools suite. We have provided commented input files and ARCHER submission scripts to make these steps easier to follow. You can find more information on the sander input options in Chapter 19 of the Amber20 manual.\n",
    "\n",
    "To run sander, one needs to specify at least the initial coordinates (-c system.rst7) and the topology files of your system (-p system.parm7) and an input file (-i sander_min.in) providing the details of the simuilation to perform. Also, we can specify the name of output files such the log file (-o) and final coordinates (-r)."
   ]
  },
  {
   "cell_type": "markdown",
   "id": "fa035470",
   "metadata": {},
   "source": [
    "# CODE\n",
    "\n",
    "Minimisation of system \n",
    " &cntrl\n",
    "  imin=1,        ! Perform an energy minimization.\n",
    "  maxcyc=4000,   ! The maximum number of cycles of minimization. \n",
    "  ncyc=2000,     ! The method will be switched from steepest descent to conjugate gradient after NCYC cycles.\n",
    " /\n"
   ]
  },
  {
   "cell_type": "markdown",
   "id": "b6b28d3f",
   "metadata": {},
   "source": [
    "# Energy minimisation with sander\n",
    "\n",
    "We have devised a minimisation protocol that will perform 4000 steps using two different methods: 2000 of gradient descent and 2000 of conjugate gradient. The sander input file looks like this:\n",
    "\n",
    "Minimisation of system \n",
    " &cntrl\n",
    "  imin=1,        ! Perform an energy minimization.\n",
    "  maxcyc=4000,   ! The maximum number of cycles of minimization. \n",
    "  ncyc=2000,     ! The method will be switched from steepest descent to conjugate gradient after NCYC cycles.\n",
    " /\n",
    "sander should have produced the following files:\n",
    "\n",
    "min_classical.out where it has written down the energy of the system every 50 steps.\n",
    "system.min.rst7 with the minimised coordinates."
   ]
  },
  {
   "cell_type": "markdown",
   "id": "a8fffde1",
   "metadata": {},
   "source": [
    "# Key Points\n",
    "\n",
    "After adding water molecules and combining coordinates of different system elements we have to minimise the system to fix any bad contacts (LEap had warned us already of some bad contacts in the structure).\n",
    "Removing bad contacts at this point will prevent our system from failing catastrophically later down the line.\n",
    "Combining different minimisation methods is a good practice and can help to avoid getting stuck into a local minima."
   ]
  },
  {
   "cell_type": "markdown",
   "id": "ffd5df5e",
   "metadata": {},
   "source": [
    "# Thermalisation and Density equilibration"
   ]
  },
  {
   "cell_type": "markdown",
   "id": "be629535",
   "metadata": {},
   "source": [
    "After the minimisation step, we will heat the system up to the target temperature 298K (25°C, standard value for room temperature experiments) while keeping the volume constant. Afterwards, we will allow the volume to fluctuate and equilibrate the density of the system at a contant pressure of 1 atm (standard value) while still keeping the temperature at 298K."
   ]
  },
  {
   "cell_type": "markdown",
   "id": "6151aa9a",
   "metadata": {},
   "source": [
    "# Thermalisation\n",
    "\n",
    "We will use the input file sander_heat.in to gradually increase the temperature of the system up to our target value over the first 30 ps. To help our system accomodate to this change, we will use a temperature ramp in which we control the temperaure increase per timestep."
   ]
  },
  {
   "cell_type": "markdown",
   "id": "fef2ac67",
   "metadata": {},
   "source": [
    "# CODE\n",
    "Heating ramp from 0K to 300K \n",
    " &cntrl\n",
    "  imin=0,                   ! Run molecular dynamics.\n",
    "  ntx=1,                    ! Initial file contains coordinates, but no velocities.\n",
    "  irest=0,                  ! Do not restart the simulation, (only read coordinates from the coordinates file)\n",
    "  nstlim=15000,             ! Number of MD-steps to be performed.\n",
    "  dt=0.002,                 ! Time step (ps)\n",
    "  ntf=2, ntc=2,             ! Constrain lengths of bonds having hydrogen atoms (SHAKE)\n",
    "  tempi=0.0, temp0=298.0,   ! Initial and final temperature\n",
    "  ntpr=500, ntwx=500,       ! Output options\n",
    "  cut=8.0,                  ! non-bond cut off\n",
    "  ntb=1,                    ! Periodic conditiond at constant volume\n",
    "  ntp=0,                    ! No pressure scaling\n",
    "  ntt=3, gamma_ln=2.0,      ! Temperature scaling using Langevin dynamics with the collision frequency in gamma_ln (ps−1)\n",
    "  ig=-1,                    ! seed for the pseudo-random number generator will be based on the current date and time.\n",
    "  nmropt=1,                 ! NMR options to give the temperature ramp.\n",
    " /\n",
    "&wt type='TEMP0', istep1=0, istep2=12000, value1=0.0, value2=298.0 /\n",
    "&wt type='TEMP0', istep1=12001, istep2=15000, value1=298.0, value2=298.0 /\n",
    "&wt type='END' /"
   ]
  },
  {
   "cell_type": "markdown",
   "id": "689c0707",
   "metadata": {},
   "source": [
    "# sander produces several output files:\n",
    "\n",
    "heat_classical.out: Log file with system values stored during the run.\n",
    "system.heat.rst7: coordinates and velocities to restart the simulation.\n",
    "system.heat.nc: trajectory in netcdf format of the simulation."
   ]
  },
  {
   "cell_type": "markdown",
   "id": "62c0e8bf",
   "metadata": {},
   "source": [
    "# Pressure equilibration\n",
    "\n",
    "Once the thermalisation step has finished, sander will use the input file sander_equil.in to equilibrate the density of the system. It is advised to heat and equilibrate over longer periods of simulations than the ones used in this workshop. However for the sake of time, we will use the same simulation length (30ps):"
   ]
  },
  {
   "cell_type": "markdown",
   "id": "7fd72839",
   "metadata": {},
   "source": [
    "# CODE\n",
    "\n",
    "Density equilibration\n",
    "&cntrl\n",
    "  imin= 0,                       ! Run molecular dynamics.\n",
    "  nstlim=15000,                  ! Number of MD-steps to be performed.\n",
    "  dt=0.002,                      ! Time step (ps)\n",
    "  irest=1,                       ! Restart the simulation and read coordinates and velocities from the restart file provided in -c\n",
    "  ntx=5,                         ! Initial file contains coordinates and velocities.\n",
    "  ntpr=500, ntwx=500, ntwr=500,  ! Output options\n",
    "  cut=8.0,                       ! non-bond cut off\n",
    "  temp0=298,                     ! Temperature\n",
    "  ntt=3, gamma_ln=3.0,           ! Temperature scaling using Langevin dynamics with the collision frequency in gamma_ln (ps−1)\n",
    "  ntb=2,                         ! Periodic conditiond at constant pressure\n",
    "  ntc=2, ntf=2,                  ! Constrain lengths of bonds having hydrogen atoms (SHAKE)\n",
    "  ntp=1, taup=2.0,               ! Pressure scaling\n",
    "  iwrap=1, ioutfm=1,             ! Output trajectory options\n",
    "/"
   ]
  },
  {
   "cell_type": "markdown",
   "id": "20eb4d24",
   "metadata": {},
   "source": [
    "# Again, sander produces several output files:\n",
    "\n",
    "equil_classical.out: Log file with thermodynamic data of the system stored during the run.\n",
    "system.equil.rst7: coordinates and velocities to restart the simulation.\n",
    "system.equil.nc: trajectory in netcdf format of the simulation."
   ]
  },
  {
   "cell_type": "markdown",
   "id": "7ddd357c",
   "metadata": {},
   "source": [
    "# Analysis of the MM equilibration simulation"
   ]
  },
  {
   "cell_type": "markdown",
   "id": "e74d9887",
   "metadata": {},
   "source": [
    "We will now have a closer look at the final steps highlighted before. In the log files, we have monitored the values of several quantities. Especially relevant are:\n",
    "\n",
    "\n",
    "1. NSTEP: The time step that the MD simulation is at\n",
    "2. TIME: The total time of the simulation (including restarts)\n",
    "3. TEMP: System temperature\n",
    "4. PRESS: System pressure\n",
    "5. Etot: Total energy of the system\n",
    "6. EKtot: Total kinetic energy of the system\n",
    "7. EPtot: Total potential energy of the system\n"
   ]
  },
  {
   "cell_type": "markdown",
   "id": "354bf4fc",
   "metadata": {},
   "source": [
    "AmberTools provides process_mdout.perl, a perl script to gather and print this information in a easy-to-use format. You can easily call it from the command-line like this:"
   ]
  },
  {
   "cell_type": "code",
   "execution_count": null,
   "id": "04c0fcf5",
   "metadata": {},
   "outputs": [],
   "source": [
    "! /Users/nj465/opt/anaconda3/envs/AmberTools22/bin/process_mdout.perl heat_classical.out equili_classical.out"
   ]
  },
  {
   "cell_type": "markdown",
   "id": "6b5af688",
   "metadata": {},
   "source": [
    "# Key Points\n",
    "\n",
    "1. Thermalisation takes our system up to the target temperature.\n",
    "2. Using a temperature ramp is a good way to slowly increase the system temperature and avoid your system from blowing up due to some bad contacts in your coordinates. You can set up a temperature ramp using the NMR restraint options of sander.\n",
    "3. Density equilibration fixes the water density and corrects the size simulation box. It prevents air bubbles in our system that might cause simulation artefacts."
   ]
  },
  {
   "cell_type": "markdown",
   "id": "1d61af45",
   "metadata": {},
   "source": [
    "# Adding missing LJ parameters and recentering coordinates"
   ]
  },
  {
   "cell_type": "markdown",
   "id": "30d6060f",
   "metadata": {},
   "source": [
    "1. Find missing parameters in the AMBER forcefields using parmed.\n",
    "2. Use parmed to change parameters in AMBER7 topologies.\n",
    "3. Use cpptraj to recenter the system in the simulation box."
   ]
  },
  {
   "cell_type": "markdown",
   "id": "b6f6d7a4",
   "metadata": {},
   "source": [
    "# Adding Lennard-Jones parameters using parmed\n",
    "\n",
    "By construction, some hydrogen atoms do not have Lennard-Jones parameters in the AMBER forcefields. However, before running any QM/MM simulation, we need to provide those parameters. In particular, we are going to add the values of the hydrogen atom that correspond to the hydroxyl in the GAFF forcefield to TIP3P water model and to the hydroxyl groups from serine and tyrosine residues.\n",
    "\n",
    "To do that, we will use the parmed tool of the AmberTools package. The usage of this program is similar to LEap. First, we load the topology file in parmed and then we do have a lot of options to modify it."
   ]
  },
  {
   "cell_type": "code",
   "execution_count": null,
   "id": "f716a0fc",
   "metadata": {},
   "outputs": [],
   "source": [
    "! /Users/nj465/opt/anaconda3/envs/AmberTools22/bin/parmed system.parm7 "
   ]
  },
  {
   "cell_type": "markdown",
   "id": "05f8e870",
   "metadata": {},
   "source": [
    "To modify them we need to use the changeLJSingleType command on different atom types (:WAT@H1, :SER@HG and :TYR@HH)."
   ]
  },
  {
   "cell_type": "markdown",
   "id": "af4808ff",
   "metadata": {},
   "source": [
    "changeLJSingleType :WAT@H1 0.3019 0.047\n",
    "\n",
    "changeLJSingleType :WAT@H2 0.3019 0.047\n",
    "\n",
    "changeLJSingleType :SER@HG 0.3019 0.047\n",
    "\n",
    "changeLJSingleType :TYR@HH 0.3019 0.047"
   ]
  },
  {
   "cell_type": "markdown",
   "id": "a46d2290",
   "metadata": {},
   "source": [
    "It is very important to do this before running your QM/MM simulations. This step prevents creating unphysical interactions between the hydrogen atoms without LJ parameters and the QM subsystem. After this topology correction, the thermostat should stay stable during the QM/MM calculation.\n",
    "\n",
    "Changing :WAT@H1 Lennard-Jones well depth from 0.0000 to 0.0470 (kal/mol) and radius from 0.0000 to 0.3019 (Angstroms)\n",
    "Finally, we save a new topology using the command outparm and exit."
   ]
  },
  {
   "cell_type": "markdown",
   "id": "958d5d81",
   "metadata": {},
   "source": [
    "outparm system_LJ_mod.parm7\n",
    "\n",
    "quit"
   ]
  },
  {
   "cell_type": "markdown",
   "id": "ca339d3f",
   "metadata": {},
   "source": [
    "You can also run parmed with an parmed.in input file similarly as we did with tleap.\n",
    "\n",
    "parmed system.parm7 -i parmed.in"
   ]
  },
  {
   "cell_type": "markdown",
   "id": "04d04bf6",
   "metadata": {},
   "source": [
    "# Centering the solutes in the simulation box\n",
    "Last but not least, we need to recenter the protein to the center of the simulation box using cpptraj. cpptraj is the trajectory analysis tool of the AmberTools package and it can do a lot of different analysis (you can find more information here). In this tutorial, we are only going to use it to recenter the system and make sure the coordinate file is in the correct format.\n",
    "\n",
    "First, we need to load the topology file:"
   ]
  },
  {
   "cell_type": "code",
   "execution_count": null,
   "id": "e89f5ada",
   "metadata": {},
   "outputs": [],
   "source": [
    "! /Users/nj465/opt/anaconda3/envs/AmberTools22/bin/cpptraj -p system_LJ_mod.parm7 "
   ]
  },
  {
   "cell_type": "markdown",
   "id": "60c8bf39",
   "metadata": {},
   "source": [
    "Then, we provide cpptraj three different commands:\n",
    "\n",
    "trajin: input trajectories. It can be repeated as many times as trajectory file you want to analyse.\n",
    "trajout: output trajectories specifying the desired format.\n",
    "autoimage: recenters protein coordinates and fixes the simulation box around it.\n",
    "After you have typed all your analysis commands you have to type go or run to actuallt make cpptraj run the analysis."
   ]
  },
  {
   "cell_type": "markdown",
   "id": "e88521c8",
   "metadata": {},
   "source": [
    "# Code\n",
    "trajin system.equil.rst7\n",
    "\n",
    "autoimage\n",
    "\n",
    "trajout system.equil0.rst7 inpcrd\n",
    "\n",
    "go \n",
    "\n",
    "quit"
   ]
  },
  {
   "cell_type": "markdown",
   "id": "51ceafd8",
   "metadata": {},
   "source": [
    "Once we have the corrected topology and coordinates, we can start equilibration our QM/MM system. Before you go to the next step, make sure you have the following files:\n",
    "\n",
    "system_LJ_mod.parm7\n",
    "\n",
    "system.equil0.rst7"
   ]
  },
  {
   "cell_type": "markdown",
   "id": "d46b2067",
   "metadata": {},
   "source": [
    "# Key Points\n",
    "\n",
    "1. In the MM forcefields, hydrogen atoms do not have Lennard-Jones parameters.\n",
    "\n",
    "2. Adding missing Lennard-Jones parameters to the topology will prevent having unphysical interactions int the QM/MM boundary.\n",
    "\n",
    "3. You can modify amber topologies using parmed.\n",
    "\n",
    "4. You should recenter the system to avoid having a split QM region in the QM/MM.\n",
    "\n",
    "5. cpptraj is the main analysis and postprocess trajectory tool for Amber.\n",
    "\n",
    "6. Using autoimage in cpptraj recenters the solute and fixes most of the PBC problems of the simulation."
   ]
  }
 ],
 "metadata": {
  "kernelspec": {
   "display_name": "Python 3 (ipykernel)",
   "language": "python",
   "name": "python3"
  },
  "language_info": {
   "codemirror_mode": {
    "name": "ipython",
    "version": 3
   },
   "file_extension": ".py",
   "mimetype": "text/x-python",
   "name": "python",
   "nbconvert_exporter": "python",
   "pygments_lexer": "ipython3",
   "version": "3.9.7"
  }
 },
 "nbformat": 4,
 "nbformat_minor": 5
}
