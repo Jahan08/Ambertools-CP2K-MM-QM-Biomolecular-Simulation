{
  "cells": [
    {
      "cell_type": "markdown",
      "metadata": {
        "id": "view-in-github",
        "colab_type": "text"
      },
      "source": [
        "<a href=\"https://colab.research.google.com/github/Jahan08/Ambertools-CP2K-MM-QM-Biomolecular-Simulation/blob/main/Filtering%20Libraries.ipynb\" target=\"_parent\"><img src=\"https://colab.research.google.com/assets/colab-badge.svg\" alt=\"Open In Colab\"/></a>"
      ]
    },
    {
      "cell_type": "code",
      "source": [
        "import pandas as pd"
      ],
      "metadata": {
        "id": "PyLaxPRwKwjL"
      },
      "execution_count": 49,
      "outputs": []
    },
    {
      "cell_type": "code",
      "source": [
        "df = pd.read_excel('/content/LC_actives.xlsx')\n",
        "df"
      ],
      "metadata": {
        "id": "ScMcGCEpLWoJ",
        "colab": {
          "base_uri": "https://localhost:8080/",
          "height": 424
        },
        "outputId": "ae7d1693-ba54-4da8-8d5c-1e916e3aa910"
      },
      "execution_count": 67,
      "outputs": [
        {
          "output_type": "execute_result",
          "data": {
            "text/plain": [
              "                                                SMILES        NAME\n",
              "0                          c1(ncccn1)N(CC2)CCN2C3CCCC3  F6543-0989\n",
              "1                      c1(ncccn1)N(CC2)CCN2C\\C=C(/C)\\C  F6667-7326\n",
              "2         N(CC(CC1)CCN1c2ccncc2Cl)(C=NC(=C3)C4CC4)C3=O  F6606-1872\n",
              "3                              s1c(OC(C2)CO2)nnc1C3CC3  F6608-0754\n",
              "4                       n1(c(C)cc(C)n1)c2ncnc(C3CC3)c2  F6592-2414\n",
              "..                                                 ...         ...\n",
              "400  C1(C(=O)\\C=C\\c2ccc(cc2Cl)Cl)=C(c3ccccc3)c4c(cc...  F0324-0018\n",
              "401  c12n(c(cs1)C)cc(c3ccc(cc3)NC(=O)c4cc(Cl)ccc4[N...  F1897-0348\n",
              "402  c12n(c(cs1)C)cc(c(cccc3NC(=O)c4cc(Cl)ccc4[N+](...  F1897-0237\n",
              "403       c12n(c(cs1)C)cc(c(cccc3NC(=O)c4ccccc4I)c3)n2  F1897-0260\n",
              "404       c12n(c(cs1)C)cc(c3ccc(cc3)NC(=O)c4ccccc4I)n2  F1897-0371\n",
              "\n",
              "[405 rows x 2 columns]"
            ],
            "text/html": [
              "\n",
              "  <div id=\"df-e2bc05e8-a599-4faa-a6fb-9b810b9b645d\">\n",
              "    <div class=\"colab-df-container\">\n",
              "      <div>\n",
              "<style scoped>\n",
              "    .dataframe tbody tr th:only-of-type {\n",
              "        vertical-align: middle;\n",
              "    }\n",
              "\n",
              "    .dataframe tbody tr th {\n",
              "        vertical-align: top;\n",
              "    }\n",
              "\n",
              "    .dataframe thead th {\n",
              "        text-align: right;\n",
              "    }\n",
              "</style>\n",
              "<table border=\"1\" class=\"dataframe\">\n",
              "  <thead>\n",
              "    <tr style=\"text-align: right;\">\n",
              "      <th></th>\n",
              "      <th>SMILES</th>\n",
              "      <th>NAME</th>\n",
              "    </tr>\n",
              "  </thead>\n",
              "  <tbody>\n",
              "    <tr>\n",
              "      <th>0</th>\n",
              "      <td>c1(ncccn1)N(CC2)CCN2C3CCCC3</td>\n",
              "      <td>F6543-0989</td>\n",
              "    </tr>\n",
              "    <tr>\n",
              "      <th>1</th>\n",
              "      <td>c1(ncccn1)N(CC2)CCN2C\\C=C(/C)\\C</td>\n",
              "      <td>F6667-7326</td>\n",
              "    </tr>\n",
              "    <tr>\n",
              "      <th>2</th>\n",
              "      <td>N(CC(CC1)CCN1c2ccncc2Cl)(C=NC(=C3)C4CC4)C3=O</td>\n",
              "      <td>F6606-1872</td>\n",
              "    </tr>\n",
              "    <tr>\n",
              "      <th>3</th>\n",
              "      <td>s1c(OC(C2)CO2)nnc1C3CC3</td>\n",
              "      <td>F6608-0754</td>\n",
              "    </tr>\n",
              "    <tr>\n",
              "      <th>4</th>\n",
              "      <td>n1(c(C)cc(C)n1)c2ncnc(C3CC3)c2</td>\n",
              "      <td>F6592-2414</td>\n",
              "    </tr>\n",
              "    <tr>\n",
              "      <th>...</th>\n",
              "      <td>...</td>\n",
              "      <td>...</td>\n",
              "    </tr>\n",
              "    <tr>\n",
              "      <th>400</th>\n",
              "      <td>C1(C(=O)\\C=C\\c2ccc(cc2Cl)Cl)=C(c3ccccc3)c4c(cc...</td>\n",
              "      <td>F0324-0018</td>\n",
              "    </tr>\n",
              "    <tr>\n",
              "      <th>401</th>\n",
              "      <td>c12n(c(cs1)C)cc(c3ccc(cc3)NC(=O)c4cc(Cl)ccc4[N...</td>\n",
              "      <td>F1897-0348</td>\n",
              "    </tr>\n",
              "    <tr>\n",
              "      <th>402</th>\n",
              "      <td>c12n(c(cs1)C)cc(c(cccc3NC(=O)c4cc(Cl)ccc4[N+](...</td>\n",
              "      <td>F1897-0237</td>\n",
              "    </tr>\n",
              "    <tr>\n",
              "      <th>403</th>\n",
              "      <td>c12n(c(cs1)C)cc(c(cccc3NC(=O)c4ccccc4I)c3)n2</td>\n",
              "      <td>F1897-0260</td>\n",
              "    </tr>\n",
              "    <tr>\n",
              "      <th>404</th>\n",
              "      <td>c12n(c(cs1)C)cc(c3ccc(cc3)NC(=O)c4ccccc4I)n2</td>\n",
              "      <td>F1897-0371</td>\n",
              "    </tr>\n",
              "  </tbody>\n",
              "</table>\n",
              "<p>405 rows × 2 columns</p>\n",
              "</div>\n",
              "      <button class=\"colab-df-convert\" onclick=\"convertToInteractive('df-e2bc05e8-a599-4faa-a6fb-9b810b9b645d')\"\n",
              "              title=\"Convert this dataframe to an interactive table.\"\n",
              "              style=\"display:none;\">\n",
              "        \n",
              "  <svg xmlns=\"http://www.w3.org/2000/svg\" height=\"24px\"viewBox=\"0 0 24 24\"\n",
              "       width=\"24px\">\n",
              "    <path d=\"M0 0h24v24H0V0z\" fill=\"none\"/>\n",
              "    <path d=\"M18.56 5.44l.94 2.06.94-2.06 2.06-.94-2.06-.94-.94-2.06-.94 2.06-2.06.94zm-11 1L8.5 8.5l.94-2.06 2.06-.94-2.06-.94L8.5 2.5l-.94 2.06-2.06.94zm10 10l.94 2.06.94-2.06 2.06-.94-2.06-.94-.94-2.06-.94 2.06-2.06.94z\"/><path d=\"M17.41 7.96l-1.37-1.37c-.4-.4-.92-.59-1.43-.59-.52 0-1.04.2-1.43.59L10.3 9.45l-7.72 7.72c-.78.78-.78 2.05 0 2.83L4 21.41c.39.39.9.59 1.41.59.51 0 1.02-.2 1.41-.59l7.78-7.78 2.81-2.81c.8-.78.8-2.07 0-2.86zM5.41 20L4 18.59l7.72-7.72 1.47 1.35L5.41 20z\"/>\n",
              "  </svg>\n",
              "      </button>\n",
              "      \n",
              "  <style>\n",
              "    .colab-df-container {\n",
              "      display:flex;\n",
              "      flex-wrap:wrap;\n",
              "      gap: 12px;\n",
              "    }\n",
              "\n",
              "    .colab-df-convert {\n",
              "      background-color: #E8F0FE;\n",
              "      border: none;\n",
              "      border-radius: 50%;\n",
              "      cursor: pointer;\n",
              "      display: none;\n",
              "      fill: #1967D2;\n",
              "      height: 32px;\n",
              "      padding: 0 0 0 0;\n",
              "      width: 32px;\n",
              "    }\n",
              "\n",
              "    .colab-df-convert:hover {\n",
              "      background-color: #E2EBFA;\n",
              "      box-shadow: 0px 1px 2px rgba(60, 64, 67, 0.3), 0px 1px 3px 1px rgba(60, 64, 67, 0.15);\n",
              "      fill: #174EA6;\n",
              "    }\n",
              "\n",
              "    [theme=dark] .colab-df-convert {\n",
              "      background-color: #3B4455;\n",
              "      fill: #D2E3FC;\n",
              "    }\n",
              "\n",
              "    [theme=dark] .colab-df-convert:hover {\n",
              "      background-color: #434B5C;\n",
              "      box-shadow: 0px 1px 3px 1px rgba(0, 0, 0, 0.15);\n",
              "      filter: drop-shadow(0px 1px 2px rgba(0, 0, 0, 0.3));\n",
              "      fill: #FFFFFF;\n",
              "    }\n",
              "  </style>\n",
              "\n",
              "      <script>\n",
              "        const buttonEl =\n",
              "          document.querySelector('#df-e2bc05e8-a599-4faa-a6fb-9b810b9b645d button.colab-df-convert');\n",
              "        buttonEl.style.display =\n",
              "          google.colab.kernel.accessAllowed ? 'block' : 'none';\n",
              "\n",
              "        async function convertToInteractive(key) {\n",
              "          const element = document.querySelector('#df-e2bc05e8-a599-4faa-a6fb-9b810b9b645d');\n",
              "          const dataTable =\n",
              "            await google.colab.kernel.invokeFunction('convertToInteractive',\n",
              "                                                     [key], {});\n",
              "          if (!dataTable) return;\n",
              "\n",
              "          const docLinkHtml = 'Like what you see? Visit the ' +\n",
              "            '<a target=\"_blank\" href=https://colab.research.google.com/notebooks/data_table.ipynb>data table notebook</a>'\n",
              "            + ' to learn more about interactive tables.';\n",
              "          element.innerHTML = '';\n",
              "          dataTable['output_type'] = 'display_data';\n",
              "          await google.colab.output.renderOutput(dataTable, element);\n",
              "          const docLink = document.createElement('div');\n",
              "          docLink.innerHTML = docLinkHtml;\n",
              "          element.appendChild(docLink);\n",
              "        }\n",
              "      </script>\n",
              "    </div>\n",
              "  </div>\n",
              "  "
            ]
          },
          "metadata": {},
          "execution_count": 67
        }
      ]
    },
    {
      "cell_type": "code",
      "source": [
        "df.to_csv (\"actives.smi\", \n",
        "                  index = None,\n",
        "                  header=True)\n",
        "df = pd.DataFrame(pd.read_csv(\"actives.smi\"))\n",
        "df"
      ],
      "metadata": {
        "id": "cZL_GD-iLcTH",
        "colab": {
          "base_uri": "https://localhost:8080/",
          "height": 424
        },
        "outputId": "61b9eee6-e485-41c1-990b-63ae21e85b92"
      },
      "execution_count": 69,
      "outputs": [
        {
          "output_type": "execute_result",
          "data": {
            "text/plain": [
              "                                                SMILES        NAME\n",
              "0                          c1(ncccn1)N(CC2)CCN2C3CCCC3  F6543-0989\n",
              "1                      c1(ncccn1)N(CC2)CCN2C\\C=C(/C)\\C  F6667-7326\n",
              "2         N(CC(CC1)CCN1c2ccncc2Cl)(C=NC(=C3)C4CC4)C3=O  F6606-1872\n",
              "3                              s1c(OC(C2)CO2)nnc1C3CC3  F6608-0754\n",
              "4                       n1(c(C)cc(C)n1)c2ncnc(C3CC3)c2  F6592-2414\n",
              "..                                                 ...         ...\n",
              "400  C1(C(=O)\\C=C\\c2ccc(cc2Cl)Cl)=C(c3ccccc3)c4c(cc...  F0324-0018\n",
              "401  c12n(c(cs1)C)cc(c3ccc(cc3)NC(=O)c4cc(Cl)ccc4[N...  F1897-0348\n",
              "402  c12n(c(cs1)C)cc(c(cccc3NC(=O)c4cc(Cl)ccc4[N+](...  F1897-0237\n",
              "403       c12n(c(cs1)C)cc(c(cccc3NC(=O)c4ccccc4I)c3)n2  F1897-0260\n",
              "404       c12n(c(cs1)C)cc(c3ccc(cc3)NC(=O)c4ccccc4I)n2  F1897-0371\n",
              "\n",
              "[405 rows x 2 columns]"
            ],
            "text/html": [
              "\n",
              "  <div id=\"df-0244ee94-170f-44c8-b952-bbf7e33c69af\">\n",
              "    <div class=\"colab-df-container\">\n",
              "      <div>\n",
              "<style scoped>\n",
              "    .dataframe tbody tr th:only-of-type {\n",
              "        vertical-align: middle;\n",
              "    }\n",
              "\n",
              "    .dataframe tbody tr th {\n",
              "        vertical-align: top;\n",
              "    }\n",
              "\n",
              "    .dataframe thead th {\n",
              "        text-align: right;\n",
              "    }\n",
              "</style>\n",
              "<table border=\"1\" class=\"dataframe\">\n",
              "  <thead>\n",
              "    <tr style=\"text-align: right;\">\n",
              "      <th></th>\n",
              "      <th>SMILES</th>\n",
              "      <th>NAME</th>\n",
              "    </tr>\n",
              "  </thead>\n",
              "  <tbody>\n",
              "    <tr>\n",
              "      <th>0</th>\n",
              "      <td>c1(ncccn1)N(CC2)CCN2C3CCCC3</td>\n",
              "      <td>F6543-0989</td>\n",
              "    </tr>\n",
              "    <tr>\n",
              "      <th>1</th>\n",
              "      <td>c1(ncccn1)N(CC2)CCN2C\\C=C(/C)\\C</td>\n",
              "      <td>F6667-7326</td>\n",
              "    </tr>\n",
              "    <tr>\n",
              "      <th>2</th>\n",
              "      <td>N(CC(CC1)CCN1c2ccncc2Cl)(C=NC(=C3)C4CC4)C3=O</td>\n",
              "      <td>F6606-1872</td>\n",
              "    </tr>\n",
              "    <tr>\n",
              "      <th>3</th>\n",
              "      <td>s1c(OC(C2)CO2)nnc1C3CC3</td>\n",
              "      <td>F6608-0754</td>\n",
              "    </tr>\n",
              "    <tr>\n",
              "      <th>4</th>\n",
              "      <td>n1(c(C)cc(C)n1)c2ncnc(C3CC3)c2</td>\n",
              "      <td>F6592-2414</td>\n",
              "    </tr>\n",
              "    <tr>\n",
              "      <th>...</th>\n",
              "      <td>...</td>\n",
              "      <td>...</td>\n",
              "    </tr>\n",
              "    <tr>\n",
              "      <th>400</th>\n",
              "      <td>C1(C(=O)\\C=C\\c2ccc(cc2Cl)Cl)=C(c3ccccc3)c4c(cc...</td>\n",
              "      <td>F0324-0018</td>\n",
              "    </tr>\n",
              "    <tr>\n",
              "      <th>401</th>\n",
              "      <td>c12n(c(cs1)C)cc(c3ccc(cc3)NC(=O)c4cc(Cl)ccc4[N...</td>\n",
              "      <td>F1897-0348</td>\n",
              "    </tr>\n",
              "    <tr>\n",
              "      <th>402</th>\n",
              "      <td>c12n(c(cs1)C)cc(c(cccc3NC(=O)c4cc(Cl)ccc4[N+](...</td>\n",
              "      <td>F1897-0237</td>\n",
              "    </tr>\n",
              "    <tr>\n",
              "      <th>403</th>\n",
              "      <td>c12n(c(cs1)C)cc(c(cccc3NC(=O)c4ccccc4I)c3)n2</td>\n",
              "      <td>F1897-0260</td>\n",
              "    </tr>\n",
              "    <tr>\n",
              "      <th>404</th>\n",
              "      <td>c12n(c(cs1)C)cc(c3ccc(cc3)NC(=O)c4ccccc4I)n2</td>\n",
              "      <td>F1897-0371</td>\n",
              "    </tr>\n",
              "  </tbody>\n",
              "</table>\n",
              "<p>405 rows × 2 columns</p>\n",
              "</div>\n",
              "      <button class=\"colab-df-convert\" onclick=\"convertToInteractive('df-0244ee94-170f-44c8-b952-bbf7e33c69af')\"\n",
              "              title=\"Convert this dataframe to an interactive table.\"\n",
              "              style=\"display:none;\">\n",
              "        \n",
              "  <svg xmlns=\"http://www.w3.org/2000/svg\" height=\"24px\"viewBox=\"0 0 24 24\"\n",
              "       width=\"24px\">\n",
              "    <path d=\"M0 0h24v24H0V0z\" fill=\"none\"/>\n",
              "    <path d=\"M18.56 5.44l.94 2.06.94-2.06 2.06-.94-2.06-.94-.94-2.06-.94 2.06-2.06.94zm-11 1L8.5 8.5l.94-2.06 2.06-.94-2.06-.94L8.5 2.5l-.94 2.06-2.06.94zm10 10l.94 2.06.94-2.06 2.06-.94-2.06-.94-.94-2.06-.94 2.06-2.06.94z\"/><path d=\"M17.41 7.96l-1.37-1.37c-.4-.4-.92-.59-1.43-.59-.52 0-1.04.2-1.43.59L10.3 9.45l-7.72 7.72c-.78.78-.78 2.05 0 2.83L4 21.41c.39.39.9.59 1.41.59.51 0 1.02-.2 1.41-.59l7.78-7.78 2.81-2.81c.8-.78.8-2.07 0-2.86zM5.41 20L4 18.59l7.72-7.72 1.47 1.35L5.41 20z\"/>\n",
              "  </svg>\n",
              "      </button>\n",
              "      \n",
              "  <style>\n",
              "    .colab-df-container {\n",
              "      display:flex;\n",
              "      flex-wrap:wrap;\n",
              "      gap: 12px;\n",
              "    }\n",
              "\n",
              "    .colab-df-convert {\n",
              "      background-color: #E8F0FE;\n",
              "      border: none;\n",
              "      border-radius: 50%;\n",
              "      cursor: pointer;\n",
              "      display: none;\n",
              "      fill: #1967D2;\n",
              "      height: 32px;\n",
              "      padding: 0 0 0 0;\n",
              "      width: 32px;\n",
              "    }\n",
              "\n",
              "    .colab-df-convert:hover {\n",
              "      background-color: #E2EBFA;\n",
              "      box-shadow: 0px 1px 2px rgba(60, 64, 67, 0.3), 0px 1px 3px 1px rgba(60, 64, 67, 0.15);\n",
              "      fill: #174EA6;\n",
              "    }\n",
              "\n",
              "    [theme=dark] .colab-df-convert {\n",
              "      background-color: #3B4455;\n",
              "      fill: #D2E3FC;\n",
              "    }\n",
              "\n",
              "    [theme=dark] .colab-df-convert:hover {\n",
              "      background-color: #434B5C;\n",
              "      box-shadow: 0px 1px 3px 1px rgba(0, 0, 0, 0.15);\n",
              "      filter: drop-shadow(0px 1px 2px rgba(0, 0, 0, 0.3));\n",
              "      fill: #FFFFFF;\n",
              "    }\n",
              "  </style>\n",
              "\n",
              "      <script>\n",
              "        const buttonEl =\n",
              "          document.querySelector('#df-0244ee94-170f-44c8-b952-bbf7e33c69af button.colab-df-convert');\n",
              "        buttonEl.style.display =\n",
              "          google.colab.kernel.accessAllowed ? 'block' : 'none';\n",
              "\n",
              "        async function convertToInteractive(key) {\n",
              "          const element = document.querySelector('#df-0244ee94-170f-44c8-b952-bbf7e33c69af');\n",
              "          const dataTable =\n",
              "            await google.colab.kernel.invokeFunction('convertToInteractive',\n",
              "                                                     [key], {});\n",
              "          if (!dataTable) return;\n",
              "\n",
              "          const docLinkHtml = 'Like what you see? Visit the ' +\n",
              "            '<a target=\"_blank\" href=https://colab.research.google.com/notebooks/data_table.ipynb>data table notebook</a>'\n",
              "            + ' to learn more about interactive tables.';\n",
              "          element.innerHTML = '';\n",
              "          dataTable['output_type'] = 'display_data';\n",
              "          await google.colab.output.renderOutput(dataTable, element);\n",
              "          const docLink = document.createElement('div');\n",
              "          docLink.innerHTML = docLinkHtml;\n",
              "          element.appendChild(docLink);\n",
              "        }\n",
              "      </script>\n",
              "    </div>\n",
              "  </div>\n",
              "  "
            ]
          },
          "metadata": {},
          "execution_count": 69
        }
      ]
    },
    {
      "cell_type": "code",
      "source": [
        "! pip3 install rdkit"
      ],
      "metadata": {
        "id": "vPWZff-6gptF",
        "outputId": "efef3c9d-d83d-42e2-f52f-3ee7a0e99b05",
        "colab": {
          "base_uri": "https://localhost:8080/"
        }
      },
      "execution_count": 70,
      "outputs": [
        {
          "output_type": "stream",
          "name": "stdout",
          "text": [
            "Looking in indexes: https://pypi.org/simple, https://us-python.pkg.dev/colab-wheels/public/simple/\n",
            "Requirement already satisfied: rdkit in /usr/local/lib/python3.9/dist-packages (2022.9.5)\n",
            "Requirement already satisfied: Pillow in /usr/local/lib/python3.9/dist-packages (from rdkit) (8.4.0)\n",
            "Requirement already satisfied: numpy in /usr/local/lib/python3.9/dist-packages (from rdkit) (1.22.4)\n"
          ]
        }
      ]
    },
    {
      "cell_type": "code",
      "source": [
        "! pip3 install docopt"
      ],
      "metadata": {
        "id": "eXd00L84gzql",
        "outputId": "9db26e1b-fca2-440e-9959-9fb69412c5ff",
        "colab": {
          "base_uri": "https://localhost:8080/"
        }
      },
      "execution_count": 71,
      "outputs": [
        {
          "output_type": "stream",
          "name": "stdout",
          "text": [
            "Looking in indexes: https://pypi.org/simple, https://us-python.pkg.dev/colab-wheels/public/simple/\n",
            "Requirement already satisfied: docopt in /usr/local/lib/python3.9/dist-packages (0.6.2)\n"
          ]
        }
      ]
    },
    {
      "cell_type": "code",
      "source": [
        "import sys\n",
        "import rdkit\n",
        "from rdkit import Chem\n",
        "from rdkit.Chem.Descriptors import MolWt, MolLogP, NumHDonors, NumHAcceptors, TPSA\n",
        "from rdkit.Chem.rdMolDescriptors import CalcNumRotatableBonds\n",
        "import multiprocessing as mp\n",
        "from multiprocessing import Pool\n",
        "import time\n",
        "import pandas as pd\n",
        "import os\n",
        "import json\n",
        "from docopt import docopt\n",
        "import pkg_resources"
      ],
      "metadata": {
        "id": "PCM9Jq9PgT0d"
      },
      "execution_count": 73,
      "outputs": []
    },
    {
      "cell_type": "code",
      "source": [
        "! python3 rd_filters.py filter --in actives.smi --prefix out"
      ],
      "metadata": {
        "id": "NLA5iohQeOYh",
        "outputId": "5441cdfc-837c-4f56-89ff-28d458a88702",
        "colab": {
          "base_uri": "https://localhost:8080/"
        }
      },
      "execution_count": 88,
      "outputs": [
        {
          "output_type": "stream",
          "name": "stdout",
          "text": [
            "using 2 cores\n",
            "Using alerts from Inpharmatica\n",
            "Wrote SMILES for molecules passing filters to out.smi\n",
            "Wrote detailed data to out.csv\n"
          ]
        }
      ]
    },
    {
      "cell_type": "code",
      "source": [
        "! cat out.csv"
      ],
      "metadata": {
        "id": "Eva75rTDh1ZV",
        "outputId": "876664f7-e9e9-4c0c-99f8-0e3618013c78",
        "colab": {
          "base_uri": "https://localhost:8080/"
        }
      },
      "execution_count": 90,
      "outputs": [
        {
          "output_type": "stream",
          "name": "stdout",
          "text": [
            "SMILES,NAME,FILTER,MW,LogP,HBD,HBA,TPSA,Rot\n"
          ]
        }
      ]
    }
  ],
  "metadata": {
    "colab": {
      "name": "Welcome To Colaboratory",
      "provenance": [],
      "include_colab_link": true
    },
    "kernelspec": {
      "display_name": "Python 3",
      "name": "python3"
    }
  },
  "nbformat": 4,
  "nbformat_minor": 0
}