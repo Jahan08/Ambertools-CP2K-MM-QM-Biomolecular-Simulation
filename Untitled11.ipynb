{
  "nbformat": 4,
  "nbformat_minor": 0,
  "metadata": {
    "colab": {
      "name": "Untitled11.ipynb",
      "provenance": [],
      "include_colab_link": true
    },
    "kernelspec": {
      "name": "python3",
      "display_name": "Python 3"
    },
    "language_info": {
      "name": "python"
    },
    "widgets": {
      "application/vnd.jupyter.widget-state+json": {
        "f6f091ff2f874696b0f193276e25b17b": {
          "model_module": "@jupyter-widgets/controls",
          "model_name": "HBoxModel",
          "model_module_version": "1.5.0",
          "state": {
            "_view_name": "HBoxView",
            "_dom_classes": [],
            "_model_name": "HBoxModel",
            "_view_module": "@jupyter-widgets/controls",
            "_model_module_version": "1.5.0",
            "_view_count": null,
            "_view_module_version": "1.5.0",
            "box_style": "",
            "layout": "IPY_MODEL_37530da89d864b7ab5f6f1d72efc8aad",
            "_model_module": "@jupyter-widgets/controls",
            "children": [
              "IPY_MODEL_528cff5f18934b66b29ed4a61c0cc215",
              "IPY_MODEL_20956139e30842c5bc80c50a3329a211",
              "IPY_MODEL_b8fe247c3cd446daaaf0015b8a621fcc"
            ]
          }
        },
        "37530da89d864b7ab5f6f1d72efc8aad": {
          "model_module": "@jupyter-widgets/base",
          "model_name": "LayoutModel",
          "model_module_version": "1.2.0",
          "state": {
            "_view_name": "LayoutView",
            "grid_template_rows": null,
            "right": null,
            "justify_content": null,
            "_view_module": "@jupyter-widgets/base",
            "overflow": null,
            "_model_module_version": "1.2.0",
            "_view_count": null,
            "flex_flow": null,
            "width": null,
            "min_width": null,
            "border": null,
            "align_items": null,
            "bottom": null,
            "_model_module": "@jupyter-widgets/base",
            "top": null,
            "grid_column": null,
            "overflow_y": null,
            "overflow_x": null,
            "grid_auto_flow": null,
            "grid_area": null,
            "grid_template_columns": null,
            "flex": null,
            "_model_name": "LayoutModel",
            "justify_items": null,
            "grid_row": null,
            "max_height": null,
            "align_content": null,
            "visibility": null,
            "align_self": null,
            "height": null,
            "min_height": null,
            "padding": null,
            "grid_auto_rows": null,
            "grid_gap": null,
            "max_width": null,
            "order": null,
            "_view_module_version": "1.2.0",
            "grid_template_areas": null,
            "object_position": null,
            "object_fit": null,
            "grid_auto_columns": null,
            "margin": null,
            "display": null,
            "left": null
          }
        },
        "528cff5f18934b66b29ed4a61c0cc215": {
          "model_module": "@jupyter-widgets/controls",
          "model_name": "HTMLModel",
          "model_module_version": "1.5.0",
          "state": {
            "_view_name": "HTMLView",
            "style": "IPY_MODEL_beb00c9bfac148dbb9bbc392fca2dbc5",
            "_dom_classes": [],
            "description": "",
            "_model_name": "HTMLModel",
            "placeholder": "​",
            "_view_module": "@jupyter-widgets/controls",
            "_model_module_version": "1.5.0",
            "value": "100%",
            "_view_count": null,
            "_view_module_version": "1.5.0",
            "description_tooltip": null,
            "_model_module": "@jupyter-widgets/controls",
            "layout": "IPY_MODEL_850a4e85cefd42a1bb1009cce6ba8b81"
          }
        },
        "20956139e30842c5bc80c50a3329a211": {
          "model_module": "@jupyter-widgets/controls",
          "model_name": "FloatProgressModel",
          "model_module_version": "1.5.0",
          "state": {
            "_view_name": "ProgressView",
            "style": "IPY_MODEL_1f7c2664891647dba0f5601e5bdd47d9",
            "_dom_classes": [],
            "description": "",
            "_model_name": "FloatProgressModel",
            "bar_style": "success",
            "max": 10000,
            "_view_module": "@jupyter-widgets/controls",
            "_model_module_version": "1.5.0",
            "value": 10000,
            "_view_count": null,
            "_view_module_version": "1.5.0",
            "orientation": "horizontal",
            "min": 0,
            "description_tooltip": null,
            "_model_module": "@jupyter-widgets/controls",
            "layout": "IPY_MODEL_06f1ced3645c4a6db9442d2d58d0c481"
          }
        },
        "b8fe247c3cd446daaaf0015b8a621fcc": {
          "model_module": "@jupyter-widgets/controls",
          "model_name": "HTMLModel",
          "model_module_version": "1.5.0",
          "state": {
            "_view_name": "HTMLView",
            "style": "IPY_MODEL_8a339bec98b74d1a966b13c7f5ef8c44",
            "_dom_classes": [],
            "description": "",
            "_model_name": "HTMLModel",
            "placeholder": "​",
            "_view_module": "@jupyter-widgets/controls",
            "_model_module_version": "1.5.0",
            "value": " 10000/10000 [00:00&lt;00:00, 14001.10it/s]",
            "_view_count": null,
            "_view_module_version": "1.5.0",
            "description_tooltip": null,
            "_model_module": "@jupyter-widgets/controls",
            "layout": "IPY_MODEL_eb4a320424434be69d03726a4b4c9d0b"
          }
        },
        "beb00c9bfac148dbb9bbc392fca2dbc5": {
          "model_module": "@jupyter-widgets/controls",
          "model_name": "DescriptionStyleModel",
          "model_module_version": "1.5.0",
          "state": {
            "_view_name": "StyleView",
            "_model_name": "DescriptionStyleModel",
            "description_width": "",
            "_view_module": "@jupyter-widgets/base",
            "_model_module_version": "1.5.0",
            "_view_count": null,
            "_view_module_version": "1.2.0",
            "_model_module": "@jupyter-widgets/controls"
          }
        },
        "850a4e85cefd42a1bb1009cce6ba8b81": {
          "model_module": "@jupyter-widgets/base",
          "model_name": "LayoutModel",
          "model_module_version": "1.2.0",
          "state": {
            "_view_name": "LayoutView",
            "grid_template_rows": null,
            "right": null,
            "justify_content": null,
            "_view_module": "@jupyter-widgets/base",
            "overflow": null,
            "_model_module_version": "1.2.0",
            "_view_count": null,
            "flex_flow": null,
            "width": null,
            "min_width": null,
            "border": null,
            "align_items": null,
            "bottom": null,
            "_model_module": "@jupyter-widgets/base",
            "top": null,
            "grid_column": null,
            "overflow_y": null,
            "overflow_x": null,
            "grid_auto_flow": null,
            "grid_area": null,
            "grid_template_columns": null,
            "flex": null,
            "_model_name": "LayoutModel",
            "justify_items": null,
            "grid_row": null,
            "max_height": null,
            "align_content": null,
            "visibility": null,
            "align_self": null,
            "height": null,
            "min_height": null,
            "padding": null,
            "grid_auto_rows": null,
            "grid_gap": null,
            "max_width": null,
            "order": null,
            "_view_module_version": "1.2.0",
            "grid_template_areas": null,
            "object_position": null,
            "object_fit": null,
            "grid_auto_columns": null,
            "margin": null,
            "display": null,
            "left": null
          }
        },
        "1f7c2664891647dba0f5601e5bdd47d9": {
          "model_module": "@jupyter-widgets/controls",
          "model_name": "ProgressStyleModel",
          "model_module_version": "1.5.0",
          "state": {
            "_view_name": "StyleView",
            "_model_name": "ProgressStyleModel",
            "description_width": "",
            "_view_module": "@jupyter-widgets/base",
            "_model_module_version": "1.5.0",
            "_view_count": null,
            "_view_module_version": "1.2.0",
            "bar_color": null,
            "_model_module": "@jupyter-widgets/controls"
          }
        },
        "06f1ced3645c4a6db9442d2d58d0c481": {
          "model_module": "@jupyter-widgets/base",
          "model_name": "LayoutModel",
          "model_module_version": "1.2.0",
          "state": {
            "_view_name": "LayoutView",
            "grid_template_rows": null,
            "right": null,
            "justify_content": null,
            "_view_module": "@jupyter-widgets/base",
            "overflow": null,
            "_model_module_version": "1.2.0",
            "_view_count": null,
            "flex_flow": null,
            "width": null,
            "min_width": null,
            "border": null,
            "align_items": null,
            "bottom": null,
            "_model_module": "@jupyter-widgets/base",
            "top": null,
            "grid_column": null,
            "overflow_y": null,
            "overflow_x": null,
            "grid_auto_flow": null,
            "grid_area": null,
            "grid_template_columns": null,
            "flex": null,
            "_model_name": "LayoutModel",
            "justify_items": null,
            "grid_row": null,
            "max_height": null,
            "align_content": null,
            "visibility": null,
            "align_self": null,
            "height": null,
            "min_height": null,
            "padding": null,
            "grid_auto_rows": null,
            "grid_gap": null,
            "max_width": null,
            "order": null,
            "_view_module_version": "1.2.0",
            "grid_template_areas": null,
            "object_position": null,
            "object_fit": null,
            "grid_auto_columns": null,
            "margin": null,
            "display": null,
            "left": null
          }
        },
        "8a339bec98b74d1a966b13c7f5ef8c44": {
          "model_module": "@jupyter-widgets/controls",
          "model_name": "DescriptionStyleModel",
          "model_module_version": "1.5.0",
          "state": {
            "_view_name": "StyleView",
            "_model_name": "DescriptionStyleModel",
            "description_width": "",
            "_view_module": "@jupyter-widgets/base",
            "_model_module_version": "1.5.0",
            "_view_count": null,
            "_view_module_version": "1.2.0",
            "_model_module": "@jupyter-widgets/controls"
          }
        },
        "eb4a320424434be69d03726a4b4c9d0b": {
          "model_module": "@jupyter-widgets/base",
          "model_name": "LayoutModel",
          "model_module_version": "1.2.0",
          "state": {
            "_view_name": "LayoutView",
            "grid_template_rows": null,
            "right": null,
            "justify_content": null,
            "_view_module": "@jupyter-widgets/base",
            "overflow": null,
            "_model_module_version": "1.2.0",
            "_view_count": null,
            "flex_flow": null,
            "width": null,
            "min_width": null,
            "border": null,
            "align_items": null,
            "bottom": null,
            "_model_module": "@jupyter-widgets/base",
            "top": null,
            "grid_column": null,
            "overflow_y": null,
            "overflow_x": null,
            "grid_auto_flow": null,
            "grid_area": null,
            "grid_template_columns": null,
            "flex": null,
            "_model_name": "LayoutModel",
            "justify_items": null,
            "grid_row": null,
            "max_height": null,
            "align_content": null,
            "visibility": null,
            "align_self": null,
            "height": null,
            "min_height": null,
            "padding": null,
            "grid_auto_rows": null,
            "grid_gap": null,
            "max_width": null,
            "order": null,
            "_view_module_version": "1.2.0",
            "grid_template_areas": null,
            "object_position": null,
            "object_fit": null,
            "grid_auto_columns": null,
            "margin": null,
            "display": null,
            "left": null
          }
        }
      }
    }
  },
  "cells": [
    {
      "cell_type": "markdown",
      "metadata": {
        "id": "view-in-github",
        "colab_type": "text"
      },
      "source": [
        "<a href=\"https://colab.research.google.com/github/Jahan08/Ambertools-CP2K-MM-QM-Biomolecular-Simulation/blob/main/Untitled11.ipynb\" target=\"_parent\"><img src=\"https://colab.research.google.com/assets/colab-badge.svg\" alt=\"Open In Colab\"/></a>"
      ]
    },
    {
      "cell_type": "markdown",
      "metadata": {
        "id": "M-Y6bU5RSQRt"
      },
      "source": [
        "## Practical Cheminformatics Quick Trick #1 \n",
        "### Picking the Highest Scoring Molecule(s) From Each Cluster\n",
        "\n",
        "Here's a quick trick that some might find helpful. In many cases we may want to select a diverse set of docked compounds.  One way to do this is to cluster a set of docked molecules and pick the the molecule in each cluster with the highest docking score. \n"
      ]
    },
    {
      "cell_type": "markdown",
      "metadata": {
        "id": "iW9JQ6VETZda"
      },
      "source": [
        "Install the RDKit"
      ]
    },
    {
      "cell_type": "code",
      "metadata": {
        "id": "tQ6O8UQoQHIc",
        "colab": {
          "base_uri": "https://localhost:8080/"
        },
        "outputId": "512366a6-561f-4342-fab7-3e2c61a7cc3d"
      },
      "source": [
        "!pip install rdkit-pypi"
      ],
      "execution_count": null,
      "outputs": [
        {
          "output_type": "stream",
          "name": "stdout",
          "text": [
            "Requirement already satisfied: rdkit-pypi in /usr/local/lib/python3.7/dist-packages (2021.9.2.1)\n",
            "Requirement already satisfied: numpy>=1.19 in /usr/local/lib/python3.7/dist-packages (from rdkit-pypi) (1.19.5)\n"
          ]
        }
      ]
    },
    {
      "cell_type": "code",
      "metadata": {
        "id": "SkofVf9-QLwR"
      },
      "source": [
        "from rdkit import Chem, DataStructs\n",
        "from rdkit.Chem import AllChem\n",
        "from rdkit.Chem import PandasTools\n",
        "from rdkit.ML.Cluster import Butina\n",
        "import requests\n",
        "import numpy as np\n",
        "from tqdm.auto import tqdm\n",
        "import pandas as pd"
      ],
      "execution_count": null,
      "outputs": []
    },
    {
      "cell_type": "markdown",
      "metadata": {
        "id": "OjBV_uOuTf8k"
      },
      "source": [
        "Enable the Pandas [progress_apply](https://towardsdatascience.com/progress-bars-in-python-and-pandas-f81954d33bae) command"
      ]
    },
    {
      "cell_type": "code",
      "metadata": {
        "id": "Yey7WdJxQZvt"
      },
      "source": [
        "tqdm.pandas()"
      ],
      "execution_count": null,
      "outputs": []
    },
    {
      "cell_type": "markdown",
      "metadata": {
        "id": "rNVnlU_dTryg"
      },
      "source": [
        "Define a couple of utility functions."
      ]
    },
    {
      "cell_type": "code",
      "metadata": {
        "id": "M9GQIw6YQhMD"
      },
      "source": [
        "def mol2fp(mol):\n",
        "    fp = AllChem.GetMorganFingerprintAsBitVect(mol,2)\n",
        "    return fp\n",
        "\n",
        "def taylor_butina_clustering(fp_list,cutoff=0.35):\n",
        "    dists = []\n",
        "    nfps = len(fp_list)\n",
        "    for i in range(1,nfps):\n",
        "        sims = DataStructs.BulkTanimotoSimilarity(fp_list[i],fp_list[:i])\n",
        "        dists.extend([1-x for x in sims])\n",
        "    mol_clusters = Butina.ClusterData(dists,nfps,cutoff,isDistData=True)\n",
        "    return mol_clusters"
      ],
      "execution_count": null,
      "outputs": []
    },
    {
      "cell_type": "markdown",
      "metadata": {
        "id": "aOz-8pmWT1FY"
      },
      "source": [
        "Read an SD file with docking results. This data was generated by the team at [OpenEye Scientific Software](https://www.eyesopen.com/blog/openeye-releases-additional-giga-scale-virtual-screening-covid-19-data-for-public-use) who used their Orion platform to dock molecules from the Enamine REAL database into ACE2 bound to the spike protein of the SARS-CoV-2 virus."
      ]
    },
    {
      "cell_type": "code",
      "metadata": {
        "colab": {
          "base_uri": "https://localhost:8080/"
        },
        "id": "8GZhbmeIQkfF",
        "outputId": "8d900bbb-da85-4148-ce14-bbb146ca046e"
      },
      "source": [
        "fname = \"Giga_Docking_10K_Hit_List.sdf.gz\"\n",
        "url = \"https://raw.githubusercontent.com/PatWalters/datafiles/main/\"+fname\n",
        "r = requests.get(url)\n",
        "open(fname , 'wb').write(r.content)"
      ],
      "execution_count": null,
      "outputs": [
        {
          "output_type": "execute_result",
          "data": {
            "text/plain": [
              "9373713"
            ]
          },
          "metadata": {},
          "execution_count": 21
        }
      ]
    },
    {
      "cell_type": "markdown",
      "metadata": {
        "id": "PLjkFlDYT9c_"
      },
      "source": [
        "Put the docking results into a dataframe. PandasTools imports all of the datafields in an SD file as type \"object\".  We want to be able to sort the dataframe by the docking score.  In order to do this, we need to covert the \"Chemgauss4\" column to type float. "
      ]
    },
    {
      "cell_type": "code",
      "metadata": {
        "id": "eqxSi1nqQpVG"
      },
      "source": [
        "df = PandasTools.LoadSDF(fname)\n",
        "df.Chemgauss4 = df.Chemgauss4.astype(float)"
      ],
      "execution_count": null,
      "outputs": []
    },
    {
      "cell_type": "markdown",
      "metadata": {
        "id": "_xvrVRSxUGKz"
      },
      "source": [
        "Add a fingerprint to the dataframe."
      ]
    },
    {
      "cell_type": "code",
      "metadata": {
        "colab": {
          "base_uri": "https://localhost:8080/",
          "height": 49,
          "referenced_widgets": [
            "f6f091ff2f874696b0f193276e25b17b",
            "37530da89d864b7ab5f6f1d72efc8aad",
            "528cff5f18934b66b29ed4a61c0cc215",
            "20956139e30842c5bc80c50a3329a211",
            "b8fe247c3cd446daaaf0015b8a621fcc",
            "beb00c9bfac148dbb9bbc392fca2dbc5",
            "850a4e85cefd42a1bb1009cce6ba8b81",
            "1f7c2664891647dba0f5601e5bdd47d9",
            "06f1ced3645c4a6db9442d2d58d0c481",
            "8a339bec98b74d1a966b13c7f5ef8c44",
            "eb4a320424434be69d03726a4b4c9d0b"
          ]
        },
        "id": "zmM5tVtMQvua",
        "outputId": "b4333173-df64-40de-a960-8d4fe81c0b56"
      },
      "source": [
        "df['fp'] = df.ROMol.progress_apply(mol2fp)"
      ],
      "execution_count": null,
      "outputs": [
        {
          "output_type": "display_data",
          "data": {
            "application/vnd.jupyter.widget-view+json": {
              "model_id": "f6f091ff2f874696b0f193276e25b17b",
              "version_minor": 0,
              "version_major": 2
            },
            "text/plain": [
              "  0%|          | 0/10000 [00:00<?, ?it/s]"
            ]
          },
          "metadata": {}
        }
      ]
    },
    {
      "cell_type": "markdown",
      "metadata": {
        "id": "iEyqJV7YUNf-"
      },
      "source": [
        "Cluster the fingerprints."
      ]
    },
    {
      "cell_type": "code",
      "metadata": {
        "id": "SY_GEg92Q83R"
      },
      "source": [
        "cluster_res = taylor_butina_clustering(df.fp.values)"
      ],
      "execution_count": null,
      "outputs": []
    },
    {
      "cell_type": "code",
      "metadata": {
        "id": "hlOXbAu6RImN"
      },
      "source": [
        "cluster_id_list = np.zeros(len(df),dtype=int)\n",
        "for cluster_num,cluster in enumerate(cluster_res):\n",
        "    for member in cluster:\n",
        "        cluster_id_list[member] = cluster_num  "
      ],
      "execution_count": null,
      "outputs": []
    },
    {
      "cell_type": "markdown",
      "metadata": {
        "id": "lwn_JWObUVDr"
      },
      "source": [
        "Add a cluster column to the dataframe"
      ]
    },
    {
      "cell_type": "code",
      "metadata": {
        "id": "IfH4TLRJRVZM"
      },
      "source": [
        "df['cluster'] = cluster_id_list"
      ],
      "execution_count": null,
      "outputs": []
    },
    {
      "cell_type": "markdown",
      "metadata": {
        "id": "cQ9KM5bPUcrW"
      },
      "source": [
        "Sort the data by cluster and docking score."
      ]
    },
    {
      "cell_type": "code",
      "metadata": {
        "id": "Dzia-M3jRZl5"
      },
      "source": [
        "df.sort_values([\"cluster\",\"Chemgauss4\"],inplace=True)"
      ],
      "execution_count": null,
      "outputs": []
    },
    {
      "cell_type": "markdown",
      "metadata": {
        "id": "gSKxtRdFUjgY"
      },
      "source": [
        "Define the list of properites to export into the SD file."
      ]
    },
    {
      "cell_type": "code",
      "metadata": {
        "id": "nJ4sXCwuRdgo"
      },
      "source": [
        "prop_list = [x for x in df.columns if x not in ['ROMol','fp']]"
      ],
      "execution_count": null,
      "outputs": []
    },
    {
      "cell_type": "markdown",
      "metadata": {
        "id": "mzKSPCq7UtSi"
      },
      "source": [
        "Create a new dataframe with the best scoring molecule in each cluster."
      ]
    },
    {
      "cell_type": "code",
      "metadata": {
        "id": "bHsCy64kRhUf"
      },
      "source": [
        "cluster_best_df = df.drop_duplicates(\"cluster\")"
      ],
      "execution_count": null,
      "outputs": []
    },
    {
      "cell_type": "markdown",
      "metadata": {
        "id": "ipTgk_vxU1D3"
      },
      "source": [
        "Write the single highest scoring molecule in each cluster to an SD file. "
      ]
    },
    {
      "cell_type": "code",
      "metadata": {
        "id": "u_EOmnDcRqwh"
      },
      "source": [
        "PandasTools.WriteSDF(cluster_best_df,\"cluster_best.sdf\",properties=prop_list)"
      ],
      "execution_count": null,
      "outputs": []
    },
    {
      "cell_type": "markdown",
      "metadata": {
        "id": "0ZEbXv6gVBUy"
      },
      "source": [
        "Create a new dataframe with the best 2 scoring molecules in each cluster."
      ]
    },
    {
      "cell_type": "code",
      "metadata": {
        "id": "EEO9TYM6Rwda"
      },
      "source": [
        "cluster_best_2_df = df.groupby(\"cluster\").head(2)"
      ],
      "execution_count": null,
      "outputs": []
    },
    {
      "cell_type": "markdown",
      "metadata": {
        "id": "50CW69xGVHtr"
      },
      "source": [
        "Write the 2 highest scoring molecules in each cluster to an SD file."
      ]
    },
    {
      "cell_type": "code",
      "metadata": {
        "id": "9b8nnKYZR67X"
      },
      "source": [
        "PandasTools.WriteSDF(cluster_best_2_df,\"cluster_best_2.sdf\",properties=prop_list)"
      ],
      "execution_count": null,
      "outputs": []
    },
    {
      "cell_type": "code",
      "metadata": {
        "id": "fV3p0jEwSDpU"
      },
      "source": [],
      "execution_count": null,
      "outputs": []
    }
  ]
}